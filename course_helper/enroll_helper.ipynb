{
 "cells": [
  {
   "cell_type": "code",
   "execution_count": 1,
   "metadata": {},
   "outputs": [],
   "source": [
    "import ratemyprofessor\n",
    "from tqdm import tqdm\n",
    "import pandas as pd "
   ]
  },
  {
   "cell_type": "markdown",
   "metadata": {},
   "source": [
    "# Local"
   ]
  },
  {
   "cell_type": "code",
   "execution_count": 4,
   "metadata": {},
   "outputs": [],
   "source": [
    "import time\n",
    "from selenium import webdriver\n",
    "from selenium.webdriver.common.by import By\n",
    "from selenium.webdriver.support.ui import WebDriverWait\n",
    "from selenium.webdriver.support import expected_conditions as EC\n",
    "from selenium.common.exceptions import NoSuchElementException\n",
    "from pathlib import Path\n",
    "\n",
    "\n",
    "def get_professor_names(url):\n",
    "    url = Path(url)\n",
    "\n",
    "    with webdriver.Chrome() as driver:\n",
    "        file_url = 'file://' + url.as_posix()\n",
    "        driver.get(file_url)\n",
    "\n",
    "        elements = driver.find_elements(By.CSS_SELECTOR, '.class-results-cell.instructor')\n",
    "\n",
    "        professor_names = []\n",
    "        for element in elements:\n",
    "            try:\n",
    "                # 尝试在当前教授元素中查找<a>标签\n",
    "                link_element = element.find_element(By.TAG_NAME, 'a')\n",
    "                # 获取<a>标签的文本，即教授的名字\n",
    "                professor_name = link_element.text\n",
    "                professor_names.append(professor_name)\n",
    "\n",
    "            except NoSuchElementException:\n",
    "                # 如果没有找到<a>标签，输出提示信息\n",
    "                # print(\"未找到<a>标签在以下元素中:\", element.text)\n",
    "                pass\n",
    "    \n",
    "        return list(set(professor_names))"
   ]
  },
  {
   "cell_type": "code",
   "execution_count": 5,
   "metadata": {},
   "outputs": [],
   "source": [
    "# url1 = \"/Users/scott/Downloads/mat267_1.html\"\n",
    "# url2 = \"/Users/scott/Downloads/mat267_2.html\"\n",
    "url2 = \"/Users/scott/Downloads/mat267_ava.html\"\n",
    "\n",
    "# professor_names_23 = get_professor_names(url1)\n",
    "# professor_names_24 = get_professor_names(url2)\n",
    "professor_names_ava = get_professor_names(url2)"
   ]
  },
  {
   "cell_type": "code",
   "execution_count": 7,
   "metadata": {},
   "outputs": [],
   "source": [
    "# all_mat_267_math_professor = list(set(professor_names_23 + professor_names_24))\n",
    "all_mat_267_math_professor = professor_names_ava"
   ]
  },
  {
   "cell_type": "code",
   "execution_count": 8,
   "metadata": {},
   "outputs": [],
   "source": [
    "asu = ratemyprofessor.get_school_by_name(\"Arizona State University\")"
   ]
  },
  {
   "cell_type": "code",
   "execution_count": 9,
   "metadata": {},
   "outputs": [
    {
     "name": "stderr",
     "output_type": "stream",
     "text": [
      "100%|██████████| 4/4 [00:06<00:00,  1.57s/it]\n"
     ]
    }
   ],
   "source": [
    "# init all professors\n",
    "professors = []\n",
    "for name in tqdm(all_mat_267_math_professor):\n",
    "    professors.append(ratemyprofessor.get_professor_by_school_and_name(asu, name))"
   ]
  },
  {
   "cell_type": "code",
   "execution_count": 10,
   "metadata": {},
   "outputs": [],
   "source": [
    "# Get ranking data\n",
    "professor_ranking_list = []\n",
    "for professor in professors:\n",
    "    if professor is None:\n",
    "        continue\n",
    "    if professor.school.name != \"Arizona State University\":\n",
    "        continue\n",
    "    professor_ranking_list.append([professor.name, professor.rating, professor.num_ratings, professor.school.name])"
   ]
  },
  {
   "cell_type": "code",
   "execution_count": 12,
   "metadata": {},
   "outputs": [
    {
     "data": {
      "text/html": [
       "<div>\n",
       "<style scoped>\n",
       "    .dataframe tbody tr th:only-of-type {\n",
       "        vertical-align: middle;\n",
       "    }\n",
       "\n",
       "    .dataframe tbody tr th {\n",
       "        vertical-align: top;\n",
       "    }\n",
       "\n",
       "    .dataframe thead th {\n",
       "        text-align: right;\n",
       "    }\n",
       "</style>\n",
       "<table border=\"1\" class=\"dataframe\">\n",
       "  <thead>\n",
       "    <tr style=\"text-align: right;\">\n",
       "      <th></th>\n",
       "      <th>Name</th>\n",
       "      <th>Rating</th>\n",
       "      <th>RatingNum</th>\n",
       "      <th>School</th>\n",
       "    </tr>\n",
       "  </thead>\n",
       "  <tbody>\n",
       "    <tr>\n",
       "      <th>2</th>\n",
       "      <td>Tom Peebles</td>\n",
       "      <td>3.8</td>\n",
       "      <td>3</td>\n",
       "      <td>Arizona State University</td>\n",
       "    </tr>\n",
       "    <tr>\n",
       "      <th>1</th>\n",
       "      <td>Sergey Nikitin</td>\n",
       "      <td>2.9</td>\n",
       "      <td>263</td>\n",
       "      <td>Arizona State University</td>\n",
       "    </tr>\n",
       "    <tr>\n",
       "      <th>0</th>\n",
       "      <td>Joelle Park</td>\n",
       "      <td>2.3</td>\n",
       "      <td>6</td>\n",
       "      <td>Arizona State University</td>\n",
       "    </tr>\n",
       "  </tbody>\n",
       "</table>\n",
       "</div>"
      ],
      "text/plain": [
       "             Name  Rating  RatingNum                    School\n",
       "2     Tom Peebles     3.8          3  Arizona State University\n",
       "1  Sergey Nikitin     2.9        263  Arizona State University\n",
       "0     Joelle Park     2.3          6  Arizona State University"
      ]
     },
     "execution_count": 12,
     "metadata": {},
     "output_type": "execute_result"
    }
   ],
   "source": [
    "df = pd.DataFrame(professor_ranking_list)\n",
    "df.columns = ['Name', 'Rating', 'RatingNum', 'School']\n",
    "df.sort_values(by='Rating', ascending=False, inplace=True)\n",
    "df\n",
    "# df.to_excel(\"/Users/scott/Downloads/math_professor_ranking_ava.xlsx\", index=False)"
   ]
  }
 ],
 "metadata": {
  "kernelspec": {
   "display_name": "dev",
   "language": "python",
   "name": "python3"
  },
  "language_info": {
   "codemirror_mode": {
    "name": "ipython",
    "version": 3
   },
   "file_extension": ".py",
   "mimetype": "text/x-python",
   "name": "python",
   "nbconvert_exporter": "python",
   "pygments_lexer": "ipython3",
   "version": "3.9.7"
  }
 },
 "nbformat": 4,
 "nbformat_minor": 2
}
