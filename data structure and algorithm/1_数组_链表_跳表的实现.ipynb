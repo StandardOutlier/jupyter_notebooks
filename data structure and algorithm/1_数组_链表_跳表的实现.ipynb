{
 "cells": [
  {
   "cell_type": "markdown",
   "metadata": {},
   "source": [
    "# 移动 0\n",
    "\n",
    "给定一个数组，将所有其中的 0，移动到末尾。"
   ]
  },
  {
   "cell_type": "code",
   "execution_count": 17,
   "metadata": {},
   "outputs": [
    {
     "data": {
      "text/plain": [
       "[1, 2, 3, 12, 2, 0, 0, 0, 0]"
      ]
     },
     "execution_count": 17,
     "metadata": {},
     "output_type": "execute_result"
    }
   ],
   "source": [
    "my_arr = [1, 2, 0, 3, 12, 0, 0, 0, 2]\n",
    "\n",
    "\n",
    "def move_zero(arr):\n",
    "    \"\"\"数组：利用快慢指针交换值.\n",
    "    \"\"\"\n",
    "    zero_idx = 0  # 慢指针，其数值表示0所在的位置\n",
    "    for i in range(len(arr)):\n",
    "        # 要做的操作与慢指针移动的条件\n",
    "        # 若不满足慢指针移动条件，慢指针停留不动，快指针继续移动\n",
    "        if arr[i] != 0:\n",
    "            arr[i], arr[zero_idx] = arr[zero_idx], arr[i]\n",
    "            zero_idx += 1\n",
    "            # print(f\"{arr}, i:{i}, zero_idx:{zero_idx}\")\n",
    "\n",
    "    return arr\n",
    "\n",
    "move_zero(my_arr)"
   ]
  },
  {
   "cell_type": "markdown",
   "metadata": {},
   "source": [
    "# 盛水最多的容器\n",
    "\n",
    "- 🇨🇳 [中文站](https://leetcode-cn.com/problems/container-with-most-water/)\n",
    "- 🇺🇸 [US](https://leetcode.com/problems/container-with-most-water/)"
   ]
  },
  {
   "cell_type": "code",
   "execution_count": 4,
   "metadata": {},
   "outputs": [
    {
     "data": {
      "text/plain": [
       "25"
      ]
     },
     "execution_count": 4,
     "metadata": {},
     "output_type": "execute_result"
    }
   ],
   "source": [
    "def max_area_2_loop(arr):\n",
    "    \"\"\"\n",
    "    数组：枚举所有元素，双重 for 循环，找出 area 最大的\n",
    "    缺点，时间复杂度比较高\n",
    "    \"\"\"\n",
    "    area_max = 0\n",
    "    for i in range(len(arr)):\n",
    "        for j in range(1, len(arr)):\n",
    "            area = (j-i) * min(arr[i], arr[j])\n",
    "            area_max = max(area_max, area)\n",
    "\n",
    "    return area_max\n",
    "\n",
    "max_area_2_loop([1,2,3,4,5,6,7,8,9,10])"
   ]
  },
  {
   "cell_type": "code",
   "execution_count": 3,
   "metadata": {},
   "outputs": [
    {
     "data": {
      "text/plain": [
       "25"
      ]
     },
     "execution_count": 3,
     "metadata": {},
     "output_type": "execute_result"
    }
   ],
   "source": [
    "def max_area_towards_center(arr):\n",
    "    \"\"\"\n",
    "    数组：一开始就将 left bar 和 right bar 设置到最左和最右\n",
    "    慢慢收敛，因为宽度已是最大，只需要控制高度即可\n",
    "    \"\"\"\n",
    "    l, r = 0, len(arr) - 1\n",
    "    ans = 0\n",
    "    while l < r:\n",
    "        area = min(arr[l], arr[r]) * (r - l)\n",
    "        ans = max(ans, area)\n",
    "        if arr[l] <= arr[r]:\n",
    "            l += 1\n",
    "        else:\n",
    "            r -= 1\n",
    "    return ans\n",
    "\n",
    "max_area_towards_center([1,2,3,4,5,6,7,8,9,10])"
   ]
  },
  {
   "cell_type": "markdown",
   "metadata": {},
   "source": [
    "# 爬楼梯\n",
    "\n",
    "\n",
    "1. 不要看得太复杂，先看一些基本的情况；能不能暴力，基本的情况如何解决\n",
    "2. 找最近重复子问题, 因为我们写程序只能写 if else, for, while,递归等结构\n",
    "\n",
    "\n",
    "- 第2级台阶要怎么走到第3级台阶？+1\n",
    "- 第1级台阶要怎么走到第3级台阶？+2\n",
    "\n",
    "第3级台阶的走法= f(1) + f(2) -> 斐波拉契数列\n",
    "\n",
    "\n",
    "爬楼梯问题，看了题解还有点不清楚，看看 leet-code 美区的介绍：\n",
    "\n",
    "> The key intuition to solve the problem is that given a number of stairs n, if we know the number ways to get to the points [n-1] and [n-2] respectively, denoted as n1 and n2 , then the total ways to get to the point [n] is n1 + n2. Because from the [n-1] point, we can take one single step to reach [n]. And from the [n-2] point, we could take two steps to get there.\n",
    "\n",
    "走法推算\n",
    "\n",
    "```\n",
    "1, (1+1,2)=2, (1+1+1, 1+2, 2+1)=3, (1+1+1+1, 1+2+1, 2+1+1, 2+2)\n",
    "```\n",
    "\n",
    "通过滚动数组\n",
    "滚动数组的大小是3，记录了前一个p, 现在的 c, 以及 结果 r"
   ]
  },
  {
   "cell_type": "code",
   "execution_count": 16,
   "metadata": {},
   "outputs": [
    {
     "data": {
      "text/plain": [
       "573147844013817084101"
      ]
     },
     "execution_count": 16,
     "metadata": {},
     "output_type": "execute_result"
    }
   ],
   "source": [
    "def climb_stairs_arr_windonw_3(n):\n",
    "    \"\"\"滑动窗口；两个元素做交换，一个变量存储结果。\n",
    "    \"\"\"\n",
    "    p, c, r = 0, 0, 1\n",
    "    for i in range(n):\n",
    "        p = c\n",
    "        c = r\n",
    "        r = p + c\n",
    "    return r\n",
    "\n",
    "\n",
    "def climb_stairs_arr_windonw_2(n):\n",
    "    \"\"\"滑动窗口，使用 Python 语法糖直接交换\n",
    "    \"\"\"\n",
    "    a = b = 1\n",
    "    for _ in range(n):\n",
    "        a, b = b, a + b\n",
    "    return a\n",
    "\n",
    "\n",
    "# climbStairs(3)\n",
    "climb_stairs_arr_windonw_3(100)\n"
   ]
  },
  {
   "cell_type": "markdown",
   "metadata": {},
   "source": [
    "# 三数之和\n",
    "\n",
    "给你一个包含 n 个整数的数组 nums，判断 nums 中是否存在三个元素 a，b，c ，使得 a + b + c = 0 ？请你找出所有和为 0 且不重复的三元组。\n",
    "\n",
    "注意：答案中不可以包含重复的三元组。\n",
    "\n",
    "\n",
    "[算法流程](https://leetcode-cn.com/problems/3sum/solution/pai-xu-shuang-zhi-zhen-zhu-xing-jie-shi-python3-by/)：\n",
    "\n",
    "1. 特判，对于数组长度 n，如果数组为 null 或者数组长度小于 3，返回 []。\n",
    "2. 对数组进行排序。\n",
    "3. 遍历排序后数组\n",
    "    - 若 nums[i] > 0：因为已经排序好，所以后面不可能有三个数加和等于 0，直接返回结果。\n",
    "    - 对于重复元素：跳过，避免出现重复解\n",
    "    - 令左指针 L=i+1，右指针 R=n−1，当 L<R 时，执行循环：\n",
    "        - 当 nums[i]+nums[L]+nums[R]==0，执行循环，判断左界和右界是否和下一位置重复，去除重复解。并同时将 L,R 移到下一位置，寻找新的解\n",
    "        - 若和大于 0，说明 nums[R] 太大，R 左移\n",
    "        - 若和小于 0，说明 nums[L] 太小，L 右移\n",
    "\n",
    "简单演示：\n",
    "\n",
    "```\n",
    "[-1, 0, 1, 2, -1, -4]\n",
    "[ I, L, 1, 2, -1,  R]\n",
    "[ I, 0, L, 2, -1,  R]\n",
    "[ I, 0, L, 2,  R, -4]\n",
    "```\n"
   ]
  },
  {
   "cell_type": "code",
   "execution_count": 38,
   "metadata": {},
   "outputs": [
    {
     "data": {
      "text/plain": [
       "[[-1, -1, 2], [-1, 0, 1]]"
      ]
     },
     "execution_count": 38,
     "metadata": {},
     "output_type": "execute_result"
    }
   ],
   "source": [
    "nums = [-1, 0, 1, 2, -1, -4]\n",
    "# 输出：[[-1,-1,2],[-1,0,1]]\n",
    "\n",
    "\n",
    "def threeSum(nums):\n",
    "    n = len(nums)\n",
    "    res = []\n",
    "    # null, 长度 < 3, 返回 []\n",
    "    if(not nums or n < 3):\n",
    "        return []\n",
    "    # 排序方便操作\n",
    "    nums.sort()\n",
    "    res = []\n",
    "    for i in range(n):\n",
    "\n",
    "        # 已经排序好，所以后面不可能有三个数加和等于 0，直接返回结果\n",
    "        if(nums[i] > 0):\n",
    "            return res\n",
    "        # 连续两个重复值，前面已经尝试过所有组合，所以跳过    \n",
    "        if(i > 0 and nums[i] == nums[i-1]):\n",
    "            continue\n",
    "\n",
    "        # L 从 i+1 开始，R 从数组长度 -1 开始\n",
    "        L = i+1\n",
    "        R = n-1\n",
    "        while(L < R):\n",
    "            if(nums[i]+nums[L]+nums[R] == 0):\n",
    "                res.append([nums[i], nums[L], nums[R]])\n",
    "                while(L < R and nums[L] == nums[L+1]):\n",
    "                    L = L+1\n",
    "                while(L < R and nums[R] == nums[R-1]):\n",
    "                    R = R-1\n",
    "                L = L+1\n",
    "                R = R-1\n",
    "            elif(nums[i]+nums[L]+nums[R] > 0):\n",
    "                R = R-1\n",
    "            else:\n",
    "                L = L+1\n",
    "    return res\n",
    "\n",
    "threeSum(nums)\n"
   ]
  },
  {
   "cell_type": "markdown",
   "metadata": {},
   "source": [
    "# 斐波那契数列\n",
    "\n",
    "斐波那契数列由0和1开始，之后的斐波那契数就是由之前的两数相加而得出。首几个斐波那契数是：\n",
    "1, 1, 2, 3, 5, 8, 13, 21, 34, 55, 89, 144, 233……\n",
    "\n",
    "通项公式:\n",
    "\n",
    "F(n) = F(n-1) + F(n-2)"
   ]
  },
  {
   "cell_type": "code",
   "execution_count": 58,
   "metadata": {},
   "outputs": [
    {
     "data": {
      "text/plain": [
       "[1, 1, 2, 3, 5, 8, 13, 21, 34, 55]"
      ]
     },
     "execution_count": 58,
     "metadata": {},
     "output_type": "execute_result"
    }
   ],
   "source": [
    "def fib_recursion(n):\n",
    "    \"\"\"递归\n",
    "       时间复杂度非常高，因为有大量冗余的计算\n",
    "    \"\"\"\n",
    "    if n < 2:\n",
    "        return n\n",
    "    else:\n",
    "        return fib_recursion(n-1) + fib_recursion(n-2)\n",
    "\n",
    "[fib_recursion(x) for x in range(1, 11)]"
   ]
  },
  {
   "cell_type": "code",
   "execution_count": 56,
   "metadata": {},
   "outputs": [
    {
     "data": {
      "text/plain": [
       "[1, 1, 2, 3, 5, 8, 13, 21, 34, 55]"
      ]
     },
     "execution_count": 56,
     "metadata": {},
     "output_type": "execute_result"
    }
   ],
   "source": [
    "def fib_moving_window(n):\n",
    "    \"\"\"滑动数组\n",
    "       需要一个 for 循环，一步一步的计算到 n 对应的值\n",
    "    \"\"\"\n",
    "    # 小于 2，根据定义，直接返回结果\n",
    "    if n < 2:\n",
    "        return n\n",
    "    else:\n",
    "        q, p, r = 0, 0, 1\n",
    "        for _ in range(2, n+1):\n",
    "            q, p = p, r\n",
    "            r = p + q\n",
    "        return r\n",
    "\n",
    "\n",
    "[fib_moving_window(x) for x in range(1, 11)]"
   ]
  },
  {
   "cell_type": "code",
   "execution_count": 61,
   "metadata": {},
   "outputs": [
    {
     "data": {
      "text/plain": [
       "[1, 1, 2, 3, 5, 8, 13, 21, 34, 55]"
      ]
     },
     "execution_count": 61,
     "metadata": {},
     "output_type": "execute_result"
    }
   ],
   "source": [
    "def gen_fib(n):\n",
    "    \"\"\"生成器实现\n",
    "       优化内存占用\n",
    "    \"\"\"\n",
    "    pre_val, cur_val, next_val = 0, 0, 1\n",
    "    for _ in range(n):\n",
    "        yield next_val\n",
    "        pre_val, cur_val = cur_val, next_val\n",
    "        next_val = pre_val + cur_val\n",
    "\n",
    "\n",
    "[x for x in gen_fib(10)]"
   ]
  },
  {
   "cell_type": "markdown",
   "metadata": {},
   "source": [
    "# 双指针移动与枚举"
   ]
  },
  {
   "cell_type": "code",
   "execution_count": 68,
   "metadata": {},
   "outputs": [],
   "source": [
    "# 双指针往中间移动\n",
    "arr = [x for x in range(5)]\n",
    "for i, j in zip(range(len(arr)), reversed(range(len(arr)))):\n",
    "    pass"
   ]
  },
  {
   "cell_type": "code",
   "execution_count": 67,
   "metadata": {},
   "outputs": [],
   "source": [
    "# 双指针枚举\n",
    "arr = [x for x in range(5)]\n",
    "for i in range(len(arr)):\n",
    "    for j in range(len(arr)):\n",
    "        pass"
   ]
  },
  {
   "cell_type": "code",
   "execution_count": 69,
   "metadata": {},
   "outputs": [],
   "source": [
    "# 快慢指针(差1)\n",
    "slow, fast = 0, 1\n",
    "for i in range(len(arr)):\n",
    "    slow +=1\n",
    "    fast += 1\n",
    "    if fast == len(arr):\n",
    "        break"
   ]
  },
  {
   "cell_type": "markdown",
   "metadata": {},
   "source": [
    "# 无重复字符串的最长子串"
   ]
  },
  {
   "cell_type": "code",
   "execution_count": 83,
   "metadata": {},
   "outputs": [
    {
     "data": {
      "text/plain": [
       "3"
      ]
     },
     "execution_count": 83,
     "metadata": {},
     "output_type": "execute_result"
    }
   ],
   "source": [
    "def lengthOfLongestSubstring(s: str) -> int:\n",
    "    seen = {}\n",
    "    l = 0\n",
    "    output = 0\n",
    "    for r in range(len(s)):\n",
    "        \"\"\"\n",
    "        If s[r] not in seen, we can keep increasing the window size by moving right pointer\n",
    "        \"\"\"\n",
    "        if s[r] not in seen:\n",
    "            output = max(output, r-l+1)\n",
    "        else:\n",
    "        # There are two cases if s[r] in seen:\n",
    "        # case1: s[r] is inside the current window, we need to change the window by moving left pointer to seen[s[r]] + 1.\n",
    "        # case2: s[r] is not inside the current window, we can keep increase the window\n",
    "            if seen[s[r]] < l:\n",
    "                output = max(output,r-l+1)\n",
    "            else:\n",
    "                l = seen[s[r]] + 1\n",
    "        seen[s[r]] = r\n",
    "\n",
    "    return output\n",
    "\n",
    "\n",
    "lengthOfLongestSubstring(\"pwwkew\")"
   ]
  },
  {
   "cell_type": "markdown",
   "metadata": {},
   "source": [
    "# 最大回文"
   ]
  },
  {
   "cell_type": "code",
   "execution_count": 90,
   "metadata": {},
   "outputs": [
    {
     "data": {
      "text/plain": [
       "''"
      ]
     },
     "execution_count": 90,
     "metadata": {},
     "output_type": "execute_result"
    }
   ],
   "source": [
    "def longestPalindrome(s: str) -> str:\n",
    "    str_len = len(s)\n",
    "    slow, fast = 0, 1\n",
    "    long_str = \"\"\n",
    "    for _ in range(str_len):\n",
    "        if fast == str_len:\n",
    "            slow +=1\n",
    "            fast = slow + 1\n",
    "        else:\n",
    "            if s[slow:fast] == ''.join(reversed(s)):\n",
    "                if len(s[slow:fast]) > long_str:\n",
    "                    long_str = str[slow:fast]\n",
    "        fast += 1\n",
    "    return long_str\n",
    "\n",
    "longestPalindrome('babad')"
   ]
  }
 ],
 "metadata": {
  "kernelspec": {
   "display_name": "Python 3",
   "language": "python",
   "name": "python3"
  },
  "language_info": {
   "codemirror_mode": {
    "name": "ipython",
    "version": 3
   },
   "file_extension": ".py",
   "mimetype": "text/x-python",
   "name": "python",
   "nbconvert_exporter": "python",
   "pygments_lexer": "ipython3",
   "version": "3.8.12"
  }
 },
 "nbformat": 4,
 "nbformat_minor": 4
}
