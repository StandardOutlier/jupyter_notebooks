{
 "cells": [
  {
   "cell_type": "markdown",
   "metadata": {},
   "source": [
    "> 概念介绍\n",
    "\n",
    "***"
   ]
  },
  {
   "cell_type": "markdown",
   "metadata": {},
   "source": [
    "# 数组、链表、跳表\n",
    "\n",
    "## 数组\n",
    "\n",
    "申请数组，计算机在内存中给你开辟一段 **连续** 的地址。如果直接访问数组中的某个元素，不管是前后，时间复杂度是一样的 O(1).\n",
    "\n",
    "问题：\n",
    "\n",
    "- 在中间位置插入元素，后面的元素都要移动，导致插入操作的时间复杂度不再是常数级的了，而是 O(n)，在最坏的情况下\n",
    "- 删除的时候，也一样，时间复杂度和插入一样\n",
    "\n",
    "### Java 数组实现\n",
    "\n",
    "操作\n",
    "\n",
    "1. 判断数组的 Size 是否够\n",
    "2. 如果够，插入元素\n",
    "3. 如果不够，申请一个新的数组，size是当前的2倍，并将原来的数组拷贝到新的数组\n",
    "4. 将后面的元素往后挪\n",
    "\n",
    "可见数组的操作中，存在大量的元素拷贝。\n",
    "\n",
    "## 链表\n",
    "\n",
    "在修改，添加，删除等操作频繁的情况下，数组并不好用，这时候推荐使用链表。链表的每一个元素都有 `value` 和 `next`，其中 `next` 指向下一个元素。这个元素一般使用 `class` 来定义，叫 `node`。\n",
    "\n",
    "如果只有一个指针叫单链表，如果有两个双向的，叫双链表，头指针叫 `head`，尾指针叫 `tail`，如果 `head` 连接了 `tail`，叫`循环链表`。\n",
    "\n",
    "Python 实现单链表，来自[知乎](https://zhuanlan.zhihu.com/p/60057180)，该文章还有关于双链表，循环列表的实现。\n",
    "\n",
    "```python\n",
    "\n",
    "class Node(object):\n",
    "    \"\"\"单链表的结点\"\"\"\n",
    "\n",
    "    def __init__(self, item):\n",
    "        # item存放数据元素\n",
    "        self.item = item\n",
    "        # next是下一个节点的标识\n",
    "        self.next = None\n",
    "\n",
    "class SingleLinkList(object):\n",
    "    \"\"\"单链表\"\"\"\n",
    "\n",
    "    def __init__(self):\n",
    "        self._head = None\n",
    "\n",
    "    def is_empty(self):\n",
    "        \"\"\"判断链表是否为空\"\"\"\n",
    "        return self._head is None\n",
    "\n",
    "    def length(self):\n",
    "        \"\"\"链表长度\"\"\"\n",
    "        # 初始指针指向head\n",
    "        cur = self._head\n",
    "        count = 0\n",
    "        # 指针指向None 表示到达尾部\n",
    "        while cur is not None:\n",
    "            count += 1\n",
    "            # 指针下移\n",
    "            cur = cur.next\n",
    "        return count\n",
    "\n",
    "    def items(self):\n",
    "        \"\"\"遍历链表\"\"\"\n",
    "        # 获取head指针\n",
    "        cur = self._head\n",
    "        # 循环遍历\n",
    "        while cur is not None:\n",
    "            # 返回生成器\n",
    "            yield cur.item\n",
    "            # 指针下移\n",
    "            cur = cur.next\n",
    "\n",
    "    def add(self, item):\n",
    "        \"\"\"向链表头部添加元素\"\"\"\n",
    "        node = Node(item)\n",
    "        # 新结点指针指向原头部结点\n",
    "        node.next = self._head\n",
    "        # 头部结点指针修改为新结点\n",
    "        self._head = node\n",
    "\n",
    "    def append(self, item):\n",
    "        \"\"\"尾部添加元素\"\"\"\n",
    "        node = Node(item)\n",
    "        # 先判断是否为空链表\n",
    "        if self.is_empty():\n",
    "            # 空链表，_head 指向新结点\n",
    "            self._head = node\n",
    "        else:\n",
    "            # 不是空链表，则找到尾部，将尾部next结点指向新结点\n",
    "            cur = self._head\n",
    "            while cur.next is not None:\n",
    "                cur = cur.next\n",
    "            cur.next = node\n",
    "\n",
    "    def insert(self, index, item):\n",
    "        \"\"\"指定位置插入元素\"\"\"\n",
    "        # 指定位置在第一个元素之前，在头部插入\n",
    "        if index <= 0:\n",
    "            self.add(item)\n",
    "        # 指定位置超过尾部，在尾部插入\n",
    "        elif index > (self.length() - 1):\n",
    "            self.append(item)\n",
    "        else:\n",
    "            # 创建元素结点\n",
    "            node = Node(item)\n",
    "            cur = self._head\n",
    "            # 循环到需要插入的位置\n",
    "            for i in range(index - 1):\n",
    "                cur = cur.next\n",
    "            node.next = cur.next\n",
    "            cur.next = node\n",
    "\n",
    "    def remove(self, item):\n",
    "        \"\"\"删除节点\"\"\"\n",
    "        cur = self._head\n",
    "        pre = None\n",
    "        while cur is not None:\n",
    "            # 找到指定元素\n",
    "            if cur.item == item:\n",
    "                # 如果第一个就是删除的节点\n",
    "                if not pre:\n",
    "                    # 将头指针指向头节点的后一个节点\n",
    "                    self._head = cur.next\n",
    "                else:\n",
    "                    # 将删除位置前一个节点的next指向删除位置的后一个节点\n",
    "                    pre.next = cur.next\n",
    "                return True\n",
    "            else:\n",
    "                # 继续按链表后移节点\n",
    "                pre = cur\n",
    "                cur = cur.next\n",
    "\n",
    "    def find(self, item):\n",
    "        \"\"\"查找元素是否存在\"\"\"\n",
    "        return item in self.items()\n",
    "```\n",
    "\n",
    "\n",
    "### 链表复杂度\n",
    "\n",
    "操作\n",
    "\n",
    "1. 将插入位置前的元素的next指向新节点，新节点的指向后节点，操作两次，常数级别，O(1)\n",
    "2. 与插入类似\n",
    "\n",
    "优点：\n",
    "\n",
    "- 不用群移，不需要复制元素\n",
    "- 移动，修改的效率很高\n",
    "\n",
    "缺点\n",
    "\n",
    "- 访问中间节点，必须一步一步往后挪，所以复杂度为O(n)\n",
    "\n",
    "\n",
    "\n",
    "## 跳表\n",
    "\n",
    "![image.png](https://i.loli.net/2021/03/07/5ryvJGuCsPS4cpN.png)\n",
    "\n",
    "\n",
    "\n",
    "- 弥补链表的设计缺陷而设计，为了加速链表访问的速度，在节点之间搭建快速路（索引）。\n",
    "- 索引越多，速度越快，但是也没有降到O(1)，而是 O(logn)\n",
    "- 现实中，因为索引经常操作，维护成本较高\n",
    "- 空间复杂度为 O(n)，但肯定还是比链表高\n"
   ]
  },
  {
   "cell_type": "markdown",
   "metadata": {},
   "source": [
    "> 解题\n",
    "\n",
    "***"
   ]
  },
  {
   "cell_type": "markdown",
   "metadata": {},
   "source": [
    "# 移动 0\n",
    "\n",
    "给定一个数组，将所有其中的 0，移动到末尾。"
   ]
  },
  {
   "cell_type": "code",
   "execution_count": null,
   "metadata": {},
   "outputs": [],
   "source": [
    "arr = [0,1,0,3,12,0,0,0,2]\n",
    "\n",
    "def moveZeroes(nums):\n",
    "    \"\"\"\n",
    "    思路：只查不是0的，遇到不是0的，放到前面，然后当前元素设置为0\n",
    "    若观察输出的 i 和 j 的索引，可以发现其实慢指针并不是每次都 +1\n",
    "    而是在交换了值的情况下才 +1\n",
    "    注意：当只有一个元素的时候不操作\n",
    "    实现：使用快慢(i,j)指针\n",
    "    \"\"\"\n",
    "    arr_len = len(nums)\n",
    "    j = 0\n",
    "    for i in range(arr_len):\n",
    "        if nums[i] != 0:\n",
    "            nums[j] = nums[i]\n",
    "            if i != j:\n",
    "                nums[i] = 0\n",
    "            j += 1\n",
    "        print(f\"{nums},i:{i}, j:{j}\")\n",
    "    return nums\n",
    "\n",
    "# 快慢指针的效率如何？如果是一次性就可以解决，那么只需要循环一次就好了\n",
    "# 时间复杂度O(n),空间复杂度O(1)\n",
    "moveZeroes(arr)\n"
   ]
  },
  {
   "cell_type": "code",
   "execution_count": null,
   "metadata": {},
   "outputs": [],
   "source": [
    "def move_zero(arr):\n",
    "    \"交换\"\n",
    "    zero = 0  # records the position of \"0\"\n",
    "    for i in range(len(arr)):\n",
    "        if arr[i] != 0:\n",
    "            arr[i], arr[zero] = arr[zero], arr[i]\n",
    "            zero += 1\n",
    "            print(f\"{arr}, i:{i}\")\n",
    "    return arr\n",
    "\n",
    "move_zero(arr)"
   ]
  },
  {
   "cell_type": "code",
   "execution_count": null,
   "metadata": {},
   "outputs": [],
   "source": [
    "def move_zero_v1(nums):\n",
    "    \"\"\"思路与第一个一样，只是判断 j ！= i 与判断快指针取到的数\n",
    "    是否==0的顺序不一样\n",
    "    \"\"\"\n",
    "    arr_len = len(nums)\n",
    "    i,j = 0, 0\n",
    "    for i in range(arr_len):\n",
    "        if nums[i] != 0:\n",
    "            nums[j] = nums[i]\n",
    "            if j != i:\n",
    "                nums[i]=0\n",
    "            j+=1\n",
    "\n",
    "    return nums\n",
    "\n",
    "def moveZeroes(nums):\n",
    "    \"\"\"5 行代码版本:\n",
    "    - 因为 i 直接从循环中拿到，不需要定义\n",
    "    - 本质上也是快慢指针\n",
    "    \"\"\"\n",
    "    zero = 0  # records the position of \"0\"\n",
    "    for i in range(len(nums)):\n",
    "        if nums[i] != 0:\n",
    "            nums[i], nums[zero] = nums[zero], nums[i]\n",
    "            zero += 1\n",
    "    return nums\n",
    "\n",
    "move_zero_v1(nums=[0,2,1])"
   ]
  },
  {
   "cell_type": "markdown",
   "metadata": {},
   "source": [
    "# 盛水最多的容器\n",
    "\n",
    "- 🇨🇳 [中文站](https://leetcode-cn.com/problems/container-with-most-water/)\n",
    "- 🇺🇸 [US](https://leetcode.com/problems/container-with-most-water/)"
   ]
  },
  {
   "cell_type": "code",
   "execution_count": null,
   "metadata": {},
   "outputs": [],
   "source": [
    "arr = [1,8,6,2,5,4,8,3,7]\n",
    "# result = 49"
   ]
  },
  {
   "cell_type": "code",
   "execution_count": null,
   "metadata": {},
   "outputs": [],
   "source": [
    "# 枚举所有元素，双重 for 循环，找出 area 最大的\n",
    "# 缺点，时间复杂度比较慢\n",
    "def maxArea(arr):\n",
    "    area_max = 0\n",
    "    for i in range(len(arr)):\n",
    "        for j in range(1,len(arr)):\n",
    "            area = (j-i) * min(arr[i],arr[j])\n",
    "            area_max = max(area_max,area)\n",
    "    return area_max\n",
    "\n",
    "maxArea([1, 2, 1, 3, 7])"
   ]
  },
  {
   "cell_type": "code",
   "execution_count": null,
   "metadata": {},
   "outputs": [],
   "source": [
    "# 一开始就将 left bar 和 right bar 设置到最左和最右\n",
    "# 慢慢收敛，因为宽度已是最大，只需要控制高度即可\n",
    "\n",
    "def maxArea2(arr):\n",
    "    max_area=0\n",
    "    for i,j in zip(range(len(arr)),reversed(range(len(arr)))):\n",
    "        if i < j:\n",
    "            min_height = arr[i+1] if arr[i] < arr[j] else arr[j-1]\n",
    "            area = (j-i+1) * min_height\n",
    "            max_area = max(max_area,area)\n",
    "    return max_area\n",
    "\n",
    "maxArea2([1,2,3,4,5,6,7,8,9,10])"
   ]
  },
  {
   "cell_type": "markdown",
   "metadata": {},
   "source": [
    "# 爬楼梯\n",
    "\n",
    "解题思路，懵逼的时候，怎么办？\n",
    "\n",
    "1. 不要看得太复杂，先看一些基本的情况；能不能暴力，基本的情况如何解决\n",
    "2. 找最近重复子问题, 因为我们写程序只能写 if else, for, while,递归等结构\n",
    "\n",
    "\n",
    "- 第2级台阶要怎么走到第3级台阶？+1\n",
    "- 第1级台阶要怎么走到第3级台阶？+2\n",
    "\n",
    "第3级台阶的走法= f(1) + f(2) -> 斐波拉契数列\n",
    "\n",
    "\n",
    "爬楼梯问题，看了题解还有点不清楚，看看 leet-code 美区的介绍：\n",
    "\n",
    "> The key intuition to solve the problem is that given a number of stairs n, if we know the number ways to get to the points [n-1] and [n-2] respectively, denoted as n1 and n2 , then the total ways to get to the point [n] is n1 + n2. Because from the [n-1] point, we can take one single step to reach [n]. And from the [n-2] point, we could take two steps to get there.\n",
    "\n",
    "\n"
   ]
  },
  {
   "cell_type": "code",
   "execution_count": null,
   "metadata": {},
   "outputs": [],
   "source": [
    "# 走法推算\n",
    "# 1, (1+1,2)=2, (1+1+1, 1+2, 2+1)=3, (1+1+1+1, 1+2+1, 2+1+1, 2+2)\n",
    "\n",
    "# 通过滚动数组\n",
    "# 滚动数组的大小是3，记录了前一个p, 现在的 c, 以及 结果 r\n",
    "\n",
    "\n",
    "def clib(n):\n",
    "    p, c, r = 0, 0, 1\n",
    "    for i in range(n-1):\n",
    "        p = c\n",
    "        c = n\n",
    "        r = p + c\n",
    "    return r\n",
    "\n",
    "clib(3)"
   ]
  },
  {
   "cell_type": "markdown",
   "metadata": {},
   "source": [
    "# 3 数之和\n",
    "\n",
    "思路:\n",
    "\n",
    "1. 3个一组去遍历，相加等于0，标记+1\n",
    "2. 两个数不变，让第三个数游动，相加等于0，标记+1\n",
    "3. 两个数不变，后面的数组排序，找到负值\n"
   ]
  },
  {
   "cell_type": "code",
   "execution_count": null,
   "metadata": {},
   "outputs": [],
   "source": [
    "# pass"
   ]
  },
  {
   "cell_type": "markdown",
   "metadata": {},
   "source": [
    "# 斐波那契数列\n",
    "\n",
    "斐波那契数列由0和1开始，之后的斐波那契数就是由之前的两数相加而得出。首几个斐波那契数是：\n",
    "1, 1, 2, 3, 5, 8, 13, 21, 34, 55, 89, 144, 233……\n",
    "\n",
    "通项公式:\n",
    "\n",
    "F(n) = F(n-1) + F(n-2)"
   ]
  },
  {
   "cell_type": "code",
   "execution_count": null,
   "metadata": {},
   "outputs": [],
   "source": [
    "# 错误代码，第 N 项的结果是前面**两项结果的和**，求第 N 项前，需先知道前面两项的结果\n",
    "\n",
    "def fib(n):\n",
    "    if n <= 2:\n",
    "        return n\n",
    "    else:\n",
    "        # 这里只是简单的 return n-1 + n-2\n",
    "        # 其实应该是这两个的结果，即：fib(n-1) + fib(n-2)\n",
    "        return (n-1) + (n-2)\n",
    "\n",
    "[fib(x) for x in range(1,13)]"
   ]
  },
  {
   "cell_type": "code",
   "execution_count": null,
   "metadata": {},
   "outputs": [],
   "source": [
    "# 时间复杂度非常高，因为有大量冗余的计算\n",
    "\n",
    "def fib_recursion(n):\n",
    "    if n <= 2:\n",
    "        return n\n",
    "    else:\n",
    "        return fib_recursion(n-1) + fib_recursion(n-2)\n",
    "\n",
    "[fib_recursion(x) for x in range(1,13)]"
   ]
  },
  {
   "cell_type": "code",
   "execution_count": 21,
   "metadata": {},
   "outputs": [
    {
     "data": {
      "text/plain": [
       "[1, 1, 2, 3, 5, 8, 13, 21, 34, 55, 89, 144, 233]"
      ]
     },
     "execution_count": 21,
     "metadata": {},
     "output_type": "execute_result"
    }
   ],
   "source": [
    "# 优秀解法，使用滑动数组\n",
    "# 需要一个 for 循环，一步一步的计算到 n 对应的值\n",
    "def fib_move_arr(n):\n",
    "    # 为什么是 2 ？\n",
    "    # 因为小于 2，则可以直接结果，小于 2 是一个边际条件\n",
    "    if n < 2:\n",
    "        return n\n",
    "    else:\n",
    "        q, p, r = 0, 0, 1\n",
    "        for i in range(2, n+1):\n",
    "            q, p = p, r\n",
    "            r = p + q\n",
    "        return r\n",
    "\n",
    "[fib_move_arr(x) for x in range(1, 14)]"
   ]
  },
  {
   "cell_type": "code",
   "execution_count": 2,
   "metadata": {},
   "outputs": [
    {
     "data": {
      "text/plain": [
       "[1, 1, 2, 3, 5, 8, 13, 21, 34, 55]"
      ]
     },
     "execution_count": 2,
     "metadata": {},
     "output_type": "execute_result"
    }
   ],
   "source": [
    "# 数组实现\n",
    "def list_fib(index):\n",
    "    re_list = []\n",
    "    n, cur_val, next_val = 0, 0, 1\n",
    "    while n < index:\n",
    "        re_list.append(next_val)\n",
    "        cur_val, next_val = next_val, cur_val + next_val\n",
    "        n += 1\n",
    "    return re_list\n",
    "\n",
    "list_fib(10)"
   ]
  },
  {
   "cell_type": "code",
   "execution_count": 3,
   "metadata": {},
   "outputs": [
    {
     "name": "stdout",
     "output_type": "stream",
     "text": [
      "1\n",
      "1\n",
      "2\n",
      "3\n",
      "5\n",
      "8\n",
      "13\n",
      "21\n",
      "34\n",
      "55\n"
     ]
    }
   ],
   "source": [
    "# 这种办法可以改造成生成器实现：\n",
    "def gen_fib(index):\n",
    "    n, cur_val, next_val = 0, 0, 1\n",
    "    while n < index:\n",
    "        # 为什么在这里 yield\n",
    "        yield next_val\n",
    "        pre_val, cur_val = cur_val, next_val\n",
    "        next_val = pre_val + cur_val\n",
    "        n += 1\n",
    "\n",
    "for x in gen_fib(10):\n",
    "    print(x)"
   ]
  },
  {
   "cell_type": "code",
   "execution_count": 18,
   "metadata": {},
   "outputs": [
    {
     "name": "stdout",
     "output_type": "stream",
     "text": [
      "1\n",
      "1\n",
      "2\n",
      "3\n",
      "5\n",
      "8\n",
      "13\n",
      "21\n",
      "34\n",
      "55\n"
     ]
    }
   ],
   "source": [
    "def gen_fib(n):\n",
    "    pre_val, cur_val, next_val = 0, 0, 1\n",
    "    for i in range(n):\n",
    "        yield next_val\n",
    "        pre_val, cur_val = cur_val, next_val\n",
    "        next_val = pre_val + cur_val\n",
    "\n",
    "for x in gen_fib(10):\n",
    "    print(x)"
   ]
  },
  {
   "cell_type": "markdown",
   "metadata": {},
   "source": [
    "# 双指针移动与枚举"
   ]
  },
  {
   "cell_type": "code",
   "execution_count": null,
   "metadata": {},
   "outputs": [],
   "source": [
    "# 双指针往中间移动\n",
    "arr = [x for x in range(3)]\n",
    "for i, j in zip(range(len(arr)),reversed(range(len(arr)))):\n",
    "    print(i, j)\n",
    "\n",
    "# 双指针枚举\n",
    "arr = [x for x in range(3)]\n",
    "for i in range(len(arr)):\n",
    "    for j in range(len(arr)):\n",
    "        print(i, j)\n",
    "\n",
    "# 快慢指针(差1)\n",
    "slow, fast = 0, 1\n",
    "for i in range(len(arr)):\n",
    "    slow +=1\n",
    "    fast += 1\n",
    "    if fast == len(arr):\n",
    "        break\n",
    "    print(slow, fast)"
   ]
  },
  {
   "cell_type": "markdown",
   "metadata": {},
   "source": [
    "# 无重复字符串的最长子串"
   ]
  },
  {
   "cell_type": "code",
   "execution_count": 68,
   "metadata": {},
   "outputs": [],
   "source": [
    "# 美区答案\n",
    "def lengthOfLongestSubstring(s):\n",
    "    start = maxLength = 0\n",
    "    usedChar = {}\n",
    "\n",
    "    for i in range(len(s)):\n",
    "        if s[i] in usedChar and start <= usedChar[s[i]]:\n",
    "            start = usedChar[s[i]] + 1\n",
    "        else:\n",
    "            maxLength = max(maxLength, i - start + 1)\n",
    "\n",
    "        usedChar[s[i]] = i\n",
    "\n",
    "    return maxLength\n",
    "\n",
    "# 美区答案 2\n",
    "def lengthOfLongestSubstring(s: str) -> int:\n",
    "    seen = {}\n",
    "    l = 0\n",
    "    output = 0\n",
    "    for r in range(len(s)):\n",
    "        \"\"\"\n",
    "        If s[r] not in seen, we can keep increasing the window size by moving right pointer\n",
    "        \"\"\"\n",
    "        if s[r] not in seen:\n",
    "            output = max(output,r-l+1)\n",
    "        # There are two cases if s[r] in seen:\n",
    "        # case1: s[r] is inside the current window, we need to change the window by moving left pointer to seen[s[r]] + 1.\n",
    "        # case2: s[r] is not inside the current window, we can keep increase the window\n",
    "\n",
    "        else:\n",
    "            if seen[s[r]] < l:\n",
    "                output = max(output,r-l+1)\n",
    "            else:\n",
    "                l = seen[s[r]] + 1\n",
    "        seen[s[r]] = r\n",
    "\n",
    "    return output\n",
    "\n",
    "# 默写\n",
    "def long_sub_string(s: str):\n",
    "    # 记录所有唯一的窗口中的值\n",
    "    used_dict = {}\n",
    "    # start 地址，相当于慢指针\n",
    "    start = max_len = 0\n",
    "    for i in range(len(s)):\n",
    "        if s[i] in used_dict:\n",
    "            # start = i\n",
    "            start += 1\n",
    "            max_len = max(max_len, i - start + 1)\n",
    "        else:\n",
    "            used_dict[s[i]] = i\n",
    "\n",
    "    return max_len\n",
    "\n",
    "long_sub_string(\"pwwkew\")"
   ]
  },
  {
   "cell_type": "code",
   "execution_count": 67,
   "metadata": {},
   "outputs": [
    {
     "data": {
      "text/plain": [
       "4"
      ]
     },
     "execution_count": 67,
     "metadata": {},
     "output_type": "execute_result"
    }
   ],
   "source": []
  },
  {
   "cell_type": "markdown",
   "metadata": {},
   "source": [
    "# 最大回文"
   ]
  },
  {
   "cell_type": "code",
   "execution_count": null,
   "metadata": {},
   "outputs": [],
   "source": [
    "def longestPalindrome(s: str) -> str:\n",
    "    str_len = len(s)\n",
    "    slow, fast = 0, 1\n",
    "    long_str = \"\"\n",
    "    for i in range(str_len):\n",
    "        if fast == str_len:\n",
    "            slow +=1\n",
    "            fast = slow + 1\n",
    "        else:\n",
    "            if s[slow:fast] == ''.join(reversed(s)):\n",
    "                if len(s[slow:fast]) > long_str:\n",
    "                    long_str = str[slow:fast]\n",
    "        fast += 1\n",
    "    return long_str\n",
    "\n",
    "longestPalindrome('babad')"
   ]
  },
  {
   "cell_type": "markdown",
   "metadata": {},
   "source": [
    "# 常用写法\n",
    "\n",
    "快慢指针\n",
    "\n",
    "```python\n",
    "arr = [1, 2, 3]\n",
    "arr_len = len(arr)\n",
    "j = 0\n",
    "\n",
    "for i in range(arr_len):\n",
    "    # 控制 j 移动的条件\n",
    "    if xxx:\n",
    "        # 满足了条件在这操作\n",
    "        xxx\n",
    "        j += 1\n",
    "````"
   ]
  }
 ],
 "metadata": {
  "kernelspec": {
   "display_name": "Python 3",
   "language": "python",
   "name": "python3"
  },
  "language_info": {
   "codemirror_mode": {
    "name": "ipython",
    "version": 3
   },
   "file_extension": ".py",
   "mimetype": "text/x-python",
   "name": "python",
   "nbconvert_exporter": "python",
   "pygments_lexer": "ipython3",
   "version": "3.9.7"
  }
 },
 "nbformat": 4,
 "nbformat_minor": 4
}
