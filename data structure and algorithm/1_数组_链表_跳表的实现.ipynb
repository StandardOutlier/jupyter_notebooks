{
 "cells": [
  {
   "cell_type": "markdown",
   "metadata": {},
   "source": [
    "# 数组"
   ]
  },
  {
   "cell_type": "markdown",
   "metadata": {},
   "source": [
    "### 移动 0\n",
    "\n",
    "给定一个数组，将所有其中的 0，移动到末尾。"
   ]
  },
  {
   "cell_type": "code",
   "execution_count": 17,
   "metadata": {},
   "outputs": [
    {
     "data": {
      "text/plain": [
       "[1, 2, 3, 12, 2, 0, 0, 0, 0]"
      ]
     },
     "execution_count": 17,
     "metadata": {},
     "output_type": "execute_result"
    }
   ],
   "source": [
    "my_arr = [1, 2, 0, 3, 12, 0, 0, 0, 2]\n",
    "\n",
    "\n",
    "def move_zero(arr):\n",
    "    \"\"\"数组：利用快慢指针交换值.\n",
    "    \"\"\"\n",
    "    zero_idx = 0  # 慢指针，其数值表示0所在的位置\n",
    "    for i in range(len(arr)):\n",
    "        # 要做的操作与慢指针移动的条件\n",
    "        # 若不满足慢指针移动条件，慢指针停留不动，快指针继续移动\n",
    "        if arr[i] != 0:\n",
    "            arr[i], arr[zero_idx] = arr[zero_idx], arr[i]\n",
    "            zero_idx += 1\n",
    "            # print(f\"{arr}, i:{i}, zero_idx:{zero_idx}\")\n",
    "\n",
    "    return arr\n",
    "\n",
    "move_zero(my_arr)"
   ]
  },
  {
   "cell_type": "markdown",
   "metadata": {},
   "source": [
    "### 盛水最多的容器\n",
    "\n",
    "- 🇨🇳 [中文站](https://leetcode-cn.com/problems/container-with-most-water/)\n",
    "- 🇺🇸 [US](https://leetcode.com/problems/container-with-most-water/)"
   ]
  },
  {
   "cell_type": "code",
   "execution_count": 4,
   "metadata": {},
   "outputs": [
    {
     "data": {
      "text/plain": [
       "25"
      ]
     },
     "execution_count": 4,
     "metadata": {},
     "output_type": "execute_result"
    }
   ],
   "source": [
    "def max_area_2_loop(arr):\n",
    "    \"\"\"\n",
    "    数组：枚举所有元素，双重 for 循环，找出 area 最大的\n",
    "    缺点，时间复杂度比较高\n",
    "    \"\"\"\n",
    "    area_max = 0\n",
    "    for i in range(len(arr)):\n",
    "        for j in range(1, len(arr)):\n",
    "            area = (j-i) * min(arr[i], arr[j])\n",
    "            area_max = max(area_max, area)\n",
    "\n",
    "    return area_max\n",
    "\n",
    "max_area_2_loop([1,2,3,4,5,6,7,8,9,10])"
   ]
  },
  {
   "cell_type": "code",
   "execution_count": 3,
   "metadata": {},
   "outputs": [
    {
     "data": {
      "text/plain": [
       "25"
      ]
     },
     "execution_count": 3,
     "metadata": {},
     "output_type": "execute_result"
    }
   ],
   "source": [
    "def max_area_towards_center(arr):\n",
    "    \"\"\"\n",
    "    数组：一开始就将 left bar 和 right bar 设置到最左和最右\n",
    "    慢慢收敛，因为宽度已是最大，只需要控制高度即可\n",
    "    \"\"\"\n",
    "    l, r = 0, len(arr) - 1\n",
    "    ans = 0\n",
    "    while l < r:\n",
    "        area = min(arr[l], arr[r]) * (r - l)\n",
    "        ans = max(ans, area)\n",
    "        if arr[l] <= arr[r]:\n",
    "            l += 1\n",
    "        else:\n",
    "            r -= 1\n",
    "    return ans\n",
    "\n",
    "max_area_towards_center([1,2,3,4,5,6,7,8,9,10])"
   ]
  },
  {
   "cell_type": "markdown",
   "metadata": {},
   "source": [
    "### 双指针移动与枚举"
   ]
  },
  {
   "cell_type": "code",
   "execution_count": 68,
   "metadata": {},
   "outputs": [],
   "source": [
    "# 双指针往中间移动\n",
    "arr = [x for x in range(5)]\n",
    "for i, j in zip(range(len(arr)), reversed(range(len(arr)))):\n",
    "    pass"
   ]
  },
  {
   "cell_type": "code",
   "execution_count": 67,
   "metadata": {},
   "outputs": [],
   "source": [
    "# 双指针枚举\n",
    "arr = [x for x in range(5)]\n",
    "for i in range(len(arr)):\n",
    "    for j in range(len(arr)):\n",
    "        pass"
   ]
  },
  {
   "cell_type": "code",
   "execution_count": 69,
   "metadata": {},
   "outputs": [],
   "source": [
    "# 快慢指针(差1)\n",
    "slow, fast = 0, 1\n",
    "for i in range(len(arr)):\n",
    "    slow +=1\n",
    "    fast += 1\n",
    "    if fast == len(arr):\n",
    "        break"
   ]
  },
  {
   "cell_type": "markdown",
   "metadata": {},
   "source": [
    "### 无重复字符串的最长子串"
   ]
  },
  {
   "cell_type": "code",
   "execution_count": 83,
   "metadata": {},
   "outputs": [
    {
     "data": {
      "text/plain": [
       "3"
      ]
     },
     "execution_count": 83,
     "metadata": {},
     "output_type": "execute_result"
    }
   ],
   "source": [
    "def lengthOfLongestSubstring(s: str) -> int:\n",
    "    seen = {}\n",
    "    l = 0\n",
    "    output = 0\n",
    "    for r in range(len(s)):\n",
    "        \"\"\"\n",
    "        If s[r] not in seen, we can keep increasing the window size by moving right pointer\n",
    "        \"\"\"\n",
    "        if s[r] not in seen:\n",
    "            output = max(output, r-l+1)\n",
    "        else:\n",
    "        # There are two cases if s[r] in seen:\n",
    "        # case1: s[r] is inside the current window, we need to change the window by moving left pointer to seen[s[r]] + 1.\n",
    "        # case2: s[r] is not inside the current window, we can keep increase the window\n",
    "            if seen[s[r]] < l:\n",
    "                output = max(output,r-l+1)\n",
    "            else:\n",
    "                l = seen[s[r]] + 1\n",
    "        seen[s[r]] = r\n",
    "\n",
    "    return output\n",
    "\n",
    "\n",
    "lengthOfLongestSubstring(\"pwwkew\")"
   ]
  },
  {
   "cell_type": "markdown",
   "metadata": {},
   "source": [
    "# 链表\n",
    "### 合并 K 个排序链表\n",
    "\n",
    "```\n",
    "输入：lists = [[1, 4, 5], [1, 3, 4], [2, 6]]\n",
    "输出：[1, 1, 2, 3, 4, 4, 5, 6]\n",
    "```\n"
   ]
  },
  {
   "cell_type": "code",
   "execution_count": null,
   "metadata": {},
   "outputs": [],
   "source": [
    "# Definition for singly-linked list.\n",
    "class ListNode:\n",
    "    def __init__(self, val=0, next=None):\n",
    "        self.val = val\n",
    "        self.next = next\n",
    "\n",
    "\n",
    "# 新建两个链表方便测试\n",
    "l1 = ListNode(val=1)\n",
    "l2 = ListNode(val=2)\n",
    "l3 = ListNode(val=3)\n",
    "\n",
    "l1.next = l2\n",
    "l2.next = l3\n",
    "\n",
    "\n",
    "r1 = ListNode(val=2)\n",
    "r2 = ListNode(val=4)\n",
    "r3 = ListNode(val=6)\n",
    "\n",
    "r1.next = r2\n",
    "r2.next = r3\n"
   ]
  },
  {
   "cell_type": "code",
   "execution_count": null,
   "metadata": {},
   "outputs": [],
   "source": [
    "\n",
    "def mergeKLists(lists):\n",
    "    \"\"\"顺序合并，效率不是很高\"\"\"\n",
    "    def merge(l1, l2):\n",
    "        d = c = ListNode(-1)\n",
    "        while l1 and l2:\n",
    "            if l1.val <= l2.val:\n",
    "                c.next, l1 = l1, l1.next\n",
    "            else:\n",
    "                c.next, l2 = l2, l2.next\n",
    "            c = c.next\n",
    "        c.next = l1 if l1 else l2\n",
    "        return d.next\n",
    "\n",
    "    ans = None\n",
    "    for i in lists:\n",
    "        ans = merge(ans, i)\n",
    "    return ans\n",
    "\n",
    "mergeKLists([l1, l2])"
   ]
  },
  {
   "cell_type": "code",
   "execution_count": null,
   "metadata": {},
   "outputs": [],
   "source": [
    "def mergeKLists(lists):\n",
    "    \"\"\"使用堆\"\"\"\n",
    "    import heapq\n",
    "    dummy = ListNode(0)\n",
    "    p = dummy\n",
    "    head = []\n",
    "    for i in range(len(lists)):\n",
    "        if lists[i]:\n",
    "            heapq.heappush(head, (lists[i].val, i))\n",
    "            lists[i] = lists[i].next\n",
    "    while head:\n",
    "        val, idx = heapq.heappop(head)\n",
    "        p.next = ListNode(val)\n",
    "        p = p.next\n",
    "        if lists[idx]:\n",
    "            heapq.heappush(head, (lists[idx].val, idx))\n",
    "            lists[idx] = lists[idx].next\n",
    "    return dummy.next"
   ]
  },
  {
   "cell_type": "markdown",
   "metadata": {},
   "source": [
    "### 判断环形链表\n",
    "\n",
    "> 新增\n",
    "\n"
   ]
  },
  {
   "cell_type": "code",
   "execution_count": null,
   "metadata": {},
   "outputs": [],
   "source": [
    "def has_cycle_set(head):\n",
    "    \"\"\"使用集合或者哈希表，记录访问过的节点，若再次出现则有环\n",
    "       1. 时间复杂度：O(N)O(N)，其中 NN 是链表中的节点数。最坏情况下我们需要遍历每个节点一次。\n",
    "       2. 空间复杂度：O(N)O(N)，其中 NN 是链表中的节点数。主要为哈希表的开销，最坏情况下我们需要将每个节点插入到哈希表中一次。\n",
    "    \"\"\"\n",
    "    seen = set()\n",
    "    while head:\n",
    "        if head in seen:\n",
    "            return True\n",
    "        else:\n",
    "            seen.add(head)\n",
    "        head = head.next\n",
    "    return False"
   ]
  },
  {
   "cell_type": "code",
   "execution_count": null,
   "metadata": {},
   "outputs": [],
   "source": [
    "def has_cycle_fast_slow_pointer(head):\n",
    "    \"\"\"\n",
    "    使用两个指针，一快一慢遍历链表，如果链表存在环，则最终快指针肯定会与慢指针相遇\n",
    "    \"\"\"\n",
    "    # 如果头节点为空或者头结点没有下一个结点，则不存在环\n",
    "    if not head or not head.next:\n",
    "        return False\n",
    "    \n",
    "    # 定义两个快慢指针遍历，这里快指针比慢指针先出发\n",
    "    # 不是同一个位置出发，这么写的原因是 while 的条件需要一开始\n",
    "    # 处于不满足的情况\n",
    "    slow = head\n",
    "    fast = head.next\n",
    "\n",
    "    while slow != fast:\n",
    "        # 如果 fast 为空或没有下一个结点，说明遍历到了链表尾部\n",
    "        # 说明不存在环，有环的话会循环到前面的结点\n",
    "        if not fast or not fast.next:\n",
    "            return False\n",
    "\n",
    "        # 移动快慢指针\n",
    "        fast = fast.next.next\n",
    "        slow = slow.next\n",
    "    \n",
    "    # while 后的条件为 True，即 slow == fast, 说明存在环\n",
    "    # 此时 slow 指向的结点 == fast 指向的结点\n",
    "    return True"
   ]
  },
  {
   "cell_type": "markdown",
   "metadata": {},
   "source": [
    "总结：\n",
    "\n",
    "- 链表的访问是从第一个结点开始的，不要用数组的思维去理解链表\n",
    "- 在链表操作中，通常会创建一个伪结点，又称 dummy 结点，使用 dummy 结点的好处是\n",
    "    - 在链表初始化的时候，没有合适的结点可以使用，用一个伪结点开始初始化比较方便，但需要注意在返回的时候需要返回 dummy.next.\n",
    "    - 可以使用 `while node` 或者是 `if node` ，来判断某个结点是否有 next"
   ]
  }
 ],
 "metadata": {
  "kernelspec": {
   "display_name": "Python 3",
   "language": "python",
   "name": "python3"
  },
  "language_info": {
   "codemirror_mode": {
    "name": "ipython",
    "version": 3
   },
   "file_extension": ".py",
   "mimetype": "text/x-python",
   "name": "python",
   "nbconvert_exporter": "python",
   "pygments_lexer": "ipython3",
   "version": "3.8.12"
  }
 },
 "nbformat": 4,
 "nbformat_minor": 4
}
