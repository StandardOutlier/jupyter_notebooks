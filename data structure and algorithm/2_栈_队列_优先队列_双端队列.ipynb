{
 "cells": [
  {
   "cell_type": "markdown",
   "metadata": {},
   "source": [
    "# 最小栈问题"
   ]
  },
  {
   "cell_type": "code",
   "execution_count": 2,
   "metadata": {},
   "outputs": [],
   "source": [
    "import math\n",
    "\n",
    "class MinStack2Arr:\n",
    "    def __init__(self):\n",
    "        \"\"\"内部使用了两个栈（一个辅助栈）\"\"\"\n",
    "        self.stack = []\n",
    "        self.min_stack = [math.inf]\n",
    "\n",
    "    def push(self, x: int) -> None:\n",
    "        self.stack.append(x)\n",
    "        self.min_stack.append(min(x, self.min_stack[-1]))\n",
    "\n",
    "    def pop(self) -> None:\n",
    "        self.stack.pop()\n",
    "        self.min_stack.pop()\n",
    "\n",
    "    def top(self) -> int:\n",
    "        return self.stack[-1]\n",
    "\n",
    "    def getMin(self) -> int:\n",
    "        return self.min_stack[-1]"
   ]
  },
  {
   "cell_type": "code",
   "execution_count": 12,
   "metadata": {},
   "outputs": [
    {
     "data": {
      "text/plain": [
       "1"
      ]
     },
     "execution_count": 12,
     "metadata": {},
     "output_type": "execute_result"
    }
   ],
   "source": [
    "class MinStackAttr:\n",
    "\n",
    "    def __init__(self):\n",
    "        \"\"\"使用一个变量记录最小值\"\"\"\n",
    "        self.stack = []\n",
    "        self.min = math.inf\n",
    "\n",
    "    def push(self, x):\n",
    "        self.stack.append(x)\n",
    "        self.min = min(x, self.min)\n",
    "\n",
    "    def pop(self):\n",
    "        self.stack.pop()\n",
    "        if self.stack:\n",
    "            self.min = min(self.stack)\n",
    "        else:\n",
    "            self.min = math.inf\n",
    "\n",
    "    def top(self):\n",
    "        return self.stack[-1]\n",
    "\n",
    "    def getMin(self):\n",
    "        return self.min"
   ]
  },
  {
   "cell_type": "markdown",
   "metadata": {},
   "source": [
    "合并 K 个排序链表\n",
    "\n",
    "```\n",
    "输入：lists = [[1,4,5],[1,3,4],[2,6]]\n",
    "输出：[1,1,2,3,4,4,5,6]\n",
    "```"
   ]
  },
  {
   "cell_type": "code",
   "execution_count": 11,
   "metadata": {},
   "outputs": [],
   "source": [
    "# Definition for singly-linked list.\n",
    "class ListNode:\n",
    "    def __init__(self, val=0, next=None):\n",
    "        self.val = val\n",
    "        self.next = next"
   ]
  },
  {
   "cell_type": "code",
   "execution_count": null,
   "metadata": {},
   "outputs": [],
   "source": [
    "class Solution:\n",
    "    def mergeKLists(self, lists: List[ListNode]) -> ListNode:\n",
    "        def merge(l1, l2):\n",
    "            d = c = ListNode(-1)\n",
    "            while l1 and l2:\n",
    "                if l1.val <= l2.val:\n",
    "                    c.next, l1 = l1, l1.next\n",
    "                else:\n",
    "                    c.next, l2 = l2, l2.next\n",
    "                c = c.next\n",
    "            c.next = l1 if l1 else l2\n",
    "            return d.next\n",
    "\n",
    "        ans = None\n",
    "        for i in lists:\n",
    "            ans = merge(ans, i)\n",
    "        return ans"
   ]
  },
  {
   "cell_type": "code",
   "execution_count": 12,
   "metadata": {},
   "outputs": [],
   "source": [
    "def mergeKLists(lists):\n",
    "    import heapq\n",
    "    dummy = ListNode(0)\n",
    "    p = dummy\n",
    "    head = []\n",
    "    for i in range(len(lists)):\n",
    "        if lists[i]:\n",
    "            heapq.heappush(head, (lists[i].val, i))\n",
    "            lists[i] = lists[i].next\n",
    "    while head:\n",
    "        val, idx = heapq.heappop(head)\n",
    "        p.next = ListNode(val)\n",
    "        p = p.next\n",
    "        if lists[idx]:\n",
    "            heapq.heappush(head, (lists[idx].val, idx))\n",
    "            lists[idx] = lists[idx].next\n",
    "    return dummy.next"
   ]
  },
  {
   "cell_type": "code",
   "execution_count": 28,
   "metadata": {},
   "outputs": [
    {
     "data": {
      "text/plain": [
       "1"
      ]
     },
     "execution_count": 28,
     "metadata": {},
     "output_type": "execute_result"
    }
   ],
   "source": [
    "l1 = ListNode(val=1)\n",
    "l2 = ListNode(val=2)\n",
    "l3 = ListNode(val=3)\n",
    "\n",
    "l1.next = l2\n",
    "l2.next = l3\n",
    "\n",
    "\n",
    "r1 = ListNode(val=2)\n",
    "r2 = ListNode(val=4)\n",
    "r3 = ListNode(val=6)\n",
    "\n",
    "r1.next = r2\n",
    "r2.next = r3"
   ]
  },
  {
   "cell_type": "code",
   "execution_count": null,
   "metadata": {},
   "outputs": [],
   "source": [
    "def merge(l1, l2):\n",
    "    d = c = ListNode(-1)\n",
    "    while l1 and l2:\n",
    "        if l1.val <= l2.val:\n",
    "            c.next, l1 = l1, l1.next\n",
    "        else:\n",
    "            c.next, l2 = l2, l2.next\n",
    "        c = c.next\n",
    "    c.next = l1 if l1 else l2\n",
    "    return d.next\n",
    "\n",
    "\n",
    "m1 = merge(l1, r1)\n",
    "m1.val"
   ]
  }
 ],
 "metadata": {
  "interpreter": {
   "hash": "c6cde3450c14288b426da6f8e44af2a678cb301446c3db6695bbf515656c326e"
  },
  "kernelspec": {
   "display_name": "Python 3.9.2 ('dev')",
   "language": "python",
   "name": "python3"
  },
  "language_info": {
   "codemirror_mode": {
    "name": "ipython",
    "version": 3
   },
   "file_extension": ".py",
   "mimetype": "text/x-python",
   "name": "python",
   "nbconvert_exporter": "python",
   "pygments_lexer": "ipython3",
   "version": "3.8.12"
  },
  "orig_nbformat": 4
 },
 "nbformat": 4,
 "nbformat_minor": 2
}
