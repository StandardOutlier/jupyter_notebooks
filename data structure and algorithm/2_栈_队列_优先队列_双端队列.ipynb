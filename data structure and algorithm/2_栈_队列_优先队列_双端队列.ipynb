{
 "cells": [
  {
   "cell_type": "markdown",
   "metadata": {},
   "source": [
    "# 栈"
   ]
  },
  {
   "cell_type": "markdown",
   "metadata": {},
   "source": [
    "### 有效的括号"
   ]
  },
  {
   "cell_type": "code",
   "execution_count": null,
   "metadata": {},
   "outputs": [],
   "source": [
    "def isValid(s):\n",
    "    \"\"\"注意理解栈的原理\"\"\"\n",
    "    stack = []\n",
    "    dict = {\"]\":\"[\", \"}\":\"{\", \")\":\"(\"}\n",
    "    for char in s:\n",
    "        # 查 value，如果出现左括号，将其放到栈中\n",
    "        if char in dict.values():\n",
    "            stack.append(char)\n",
    "        # 如果是出现了右括号、若栈是空的或者\n",
    "        # 根据右边括号找到对应的左括号不等于栈顶元素，返回 False\n",
    "        elif char in dict.keys():\n",
    "            if stack == [] or dict[char] != stack.pop():\n",
    "                return False\n",
    "        # 其他情况，返回 False\n",
    "        else:\n",
    "            return False\n",
    "    return stack == []"
   ]
  },
  {
   "cell_type": "markdown",
   "metadata": {},
   "source": [
    "### 最小栈问题"
   ]
  },
  {
   "cell_type": "code",
   "execution_count": null,
   "metadata": {},
   "outputs": [],
   "source": [
    "import math\n",
    "\n",
    "class MinStack2Arr:\n",
    "    def __init__(self):\n",
    "        \"\"\"内部使用了两个栈（一个辅助栈）\"\"\"\n",
    "        self.stack = []\n",
    "        self.min_stack = [math.inf]\n",
    "\n",
    "    def push(self, x: int) -> None:\n",
    "        self.stack.append(x)\n",
    "        self.min_stack.append(min(x, self.min_stack[-1]))\n",
    "\n",
    "    def pop(self) -> None:\n",
    "        self.stack.pop()\n",
    "        self.min_stack.pop()\n",
    "\n",
    "    def top(self) -> int:\n",
    "        return self.stack[-1]\n",
    "\n",
    "    def getMin(self) -> int:\n",
    "        return self.min_stack[-1]"
   ]
  },
  {
   "cell_type": "code",
   "execution_count": null,
   "metadata": {},
   "outputs": [],
   "source": [
    "class MinStackAttr:\n",
    "\n",
    "    def __init__(self):\n",
    "        \"\"\"使用一个变量记录最小值\"\"\"\n",
    "        self.stack = []\n",
    "        self.min = math.inf\n",
    "\n",
    "    def push(self, x):\n",
    "        self.stack.append(x)\n",
    "        self.min = min(x, self.min)\n",
    "\n",
    "    def pop(self):\n",
    "        self.stack.pop()\n",
    "        if self.stack:\n",
    "            self.min = min(self.stack)\n",
    "        else:\n",
    "            self.min = math.inf\n",
    "\n",
    "    def top(self):\n",
    "        return self.stack[-1]\n",
    "\n",
    "    def getMin(self):\n",
    "        return self.min"
   ]
  }
 ],
 "metadata": {
  "interpreter": {
   "hash": "c6cde3450c14288b426da6f8e44af2a678cb301446c3db6695bbf515656c326e"
  },
  "kernelspec": {
   "display_name": "Python 3.9.2 ('dev')",
   "language": "python",
   "name": "python3"
  },
  "language_info": {
   "codemirror_mode": {
    "name": "ipython",
    "version": 3
   },
   "file_extension": ".py",
   "mimetype": "text/x-python",
   "name": "python",
   "nbconvert_exporter": "python",
   "pygments_lexer": "ipython3",
   "version": "3.9.2"
  },
  "orig_nbformat": 4
 },
 "nbformat": 4,
 "nbformat_minor": 2
}
