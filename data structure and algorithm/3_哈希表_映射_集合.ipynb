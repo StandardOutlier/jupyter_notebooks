{
 "cells": [
  {
   "cell_type": "markdown",
   "metadata": {},
   "source": [
    "### 有效的字母异位词\n",
    "\n",
    "链接：\n",
    "\n",
    "- [中文站](https://leetcode-cn.com/problems/valid-anagram/)\n",
    "- [英文站](https://leetcode.com/problems/valid-anagram/)"
   ]
  },
  {
   "cell_type": "markdown",
   "metadata": {},
   "source": [
    "思路：\n",
    "\n",
    "1. 利用字典统计每个单词出现的次数，比较它们的 key 和 value 是否都相等"
   ]
  },
  {
   "cell_type": "code",
   "execution_count": 13,
   "metadata": {},
   "outputs": [],
   "source": [
    "a = \"anagram\"\n",
    "b = \"nagaram\""
   ]
  },
  {
   "cell_type": "code",
   "execution_count": 14,
   "metadata": {},
   "outputs": [
    {
     "data": {
      "text/plain": [
       "True"
      ]
     },
     "execution_count": 14,
     "metadata": {},
     "output_type": "execute_result"
    }
   ],
   "source": [
    "# 排序\n",
    "# 异位词的顺序不同出现的次数一样，所以使用 sort 方法排序后的值应该相等的\n",
    "def isAnagramSort(s, t):\n",
    "    if len(s) != len(t):\n",
    "        return False\n",
    "\n",
    "    s_sorted = sorted(s)\n",
    "    t_sorted = sorted(t)\n",
    "\n",
    "    if s_sorted == t_sorted:\n",
    "        return True\n",
    "    else:\n",
    "        return False\n",
    "\n",
    "isAnagramSort(a, b)"
   ]
  },
  {
   "cell_type": "code",
   "execution_count": 4,
   "metadata": {},
   "outputs": [],
   "source": [
    "# 使用 collection 中的 Counter\n",
    "# Counter 支持比较运算符 ==, !=, <, <=, >, >=.\n",
    "# 需要注意对于个数为 0的，不算入比较的范围，如 Counter(a=1) == Counter(a=1, b=0) 返回 true.\n",
    "import collections\n",
    "\n",
    "def isAnagramCounter(s: str, t: str) -> bool:\n",
    "    return collections.Counter(s) == collections.Counter(t)"
   ]
  },
  {
   "cell_type": "markdown",
   "metadata": {},
   "source": [
    "### 字母异位词分组\n",
    "\n",
    "链接：\n",
    "\n",
    "- [中文站](https://leetcode-cn.com/problems/group-anagrams/)\n",
    "- [英文站](https://leetcode.com/problems/group-anagrams/)"
   ]
  },
  {
   "cell_type": "code",
   "execution_count": 1,
   "metadata": {},
   "outputs": [],
   "source": [
    "pass"
   ]
  },
  {
   "cell_type": "markdown",
   "metadata": {},
   "source": [
    "### 两数之和\n",
    "\n",
    "链接：\n",
    "- [中文站](https://leetcode-cn.com/problems/two-sum/description/)\n",
    "- [英文站](https://leetcode.com/problems/two-sum/description/)"
   ]
  },
  {
   "cell_type": "code",
   "execution_count": 5,
   "metadata": {},
   "outputs": [],
   "source": [
    "pass"
   ]
  },
  {
   "cell_type": "markdown",
   "metadata": {},
   "source": [
    "### 三数之和\n",
    "\n",
    "给你一个包含 n 个整数的数组 nums，判断 nums 中是否存在三个元素 a，b，c ，使得 a + b + c = 0 ？请你找出所有和为 0 且不重复的三元组。\n",
    "\n",
    "注意：答案中不可以包含重复的三元组。\n",
    "\n",
    "\n",
    "[算法流程](https://leetcode-cn.com/problems/3sum/solution/pai-xu-shuang-zhi-zhen-zhu-xing-jie-shi-python3-by/)：\n",
    "\n",
    "1. 特判，对于数组长度 n，如果数组为 null 或者数组长度小于 3，返回 []。\n",
    "2. 对数组进行排序。\n",
    "3. 遍历排序后数组\n",
    "    - 若 nums[i] > 0：因为已经排序好，所以后面不可能有三个数加和等于 0，直接返回结果。\n",
    "    - 对于重复元素：跳过，避免出现重复解\n",
    "    - 令左指针 L=i+1，右指针 R=n−1，当 L<R 时，执行循环：\n",
    "        - 当 nums[i]+nums[L]+nums[R]==0，执行循环，判断左界和右界是否和下一位置重复，去除重复解。并同时将 L,R 移到下一位置，寻找新的解\n",
    "        - 若和大于 0，说明 nums[R] 太大，R 左移\n",
    "        - 若和小于 0，说明 nums[L] 太小，L 右移\n",
    "\n",
    "简单演示：\n",
    "\n",
    "```\n",
    "[-1, 0, 1, 2, -1, -4]\n",
    "[ I, L, 1, 2, -1,  R]\n",
    "[ I, 0, L, 2, -1,  R]\n",
    "[ I, 0, L, 2,  R, -4]\n",
    "```\n"
   ]
  },
  {
   "cell_type": "code",
   "execution_count": 6,
   "metadata": {},
   "outputs": [
    {
     "data": {
      "text/plain": [
       "[[-1, -1, 2], [-1, 0, 1]]"
      ]
     },
     "execution_count": 6,
     "metadata": {},
     "output_type": "execute_result"
    }
   ],
   "source": [
    "nums = [-1, 0, 1, 2, -1, -4]\n",
    "# 输出：[[-1,-1,2],[-1,0,1]]\n",
    "\n",
    "\n",
    "def threeSum(nums):\n",
    "    n = len(nums)\n",
    "    res = []\n",
    "    # null, 长度 < 3, 返回 []\n",
    "    if(not nums or n < 3):\n",
    "        return []\n",
    "    # 排序方便操作\n",
    "    nums.sort()\n",
    "    res = []\n",
    "    for i in range(n):\n",
    "\n",
    "        # 已经排序好，所以后面不可能有三个数加和等于 0，直接返回结果\n",
    "        if(nums[i] > 0):\n",
    "            return res\n",
    "        # 连续两个重复值，前面已经尝试过所有组合，所以跳过    \n",
    "        if(i > 0 and nums[i] == nums[i-1]):\n",
    "            continue\n",
    "\n",
    "        # L 从 i+1 开始，R 从数组长度 -1 开始\n",
    "        L = i+1\n",
    "        R = n-1\n",
    "        while(L < R):\n",
    "            if(nums[i]+nums[L]+nums[R] == 0):\n",
    "                res.append([nums[i], nums[L], nums[R]])\n",
    "                while(L < R and nums[L] == nums[L+1]):\n",
    "                    L = L+1\n",
    "                while(L < R and nums[R] == nums[R-1]):\n",
    "                    R = R-1\n",
    "                L = L+1\n",
    "                R = R-1\n",
    "            elif(nums[i]+nums[L]+nums[R] > 0):\n",
    "                R = R-1\n",
    "            else:\n",
    "                L = L+1\n",
    "    return res\n",
    "\n",
    "threeSum(nums)\n"
   ]
  }
 ],
 "metadata": {
  "interpreter": {
   "hash": "476253e59e65943f63347f07b9cde9e6998ced5a0f745ea85ba02156ab78e294"
  },
  "kernelspec": {
   "display_name": "Python 3.9.7 ('dev')",
   "language": "python",
   "name": "python3"
  },
  "language_info": {
   "codemirror_mode": {
    "name": "ipython",
    "version": 3
   },
   "file_extension": ".py",
   "mimetype": "text/x-python",
   "name": "python",
   "nbconvert_exporter": "python",
   "pygments_lexer": "ipython3",
   "version": "3.9.7"
  },
  "orig_nbformat": 4
 },
 "nbformat": 4,
 "nbformat_minor": 2
}
