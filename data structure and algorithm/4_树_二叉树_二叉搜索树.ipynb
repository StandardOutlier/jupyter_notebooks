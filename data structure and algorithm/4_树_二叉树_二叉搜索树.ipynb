{
 "cells": [
  {
   "cell_type": "markdown",
   "metadata": {},
   "source": [
    "## 二叉树\n",
    "\n",
    "需要理解树的遍历。\n",
    "\n",
    "- 使用递归是一种高效、简便的方式，不要怕使用递归。\n",
    "- 对于二叉树的递归又分为三种不同的形式，分别是前序、中序、后序。\n",
    "- 如果面试要求不使用递归，则可以使用循环解法。\n",
    "\n",
    "\n"
   ]
  },
  {
   "cell_type": "markdown",
   "metadata": {},
   "source": [
    "### 二叉树的中序遍历"
   ]
  },
  {
   "cell_type": "markdown",
   "metadata": {},
   "source": [
    "#### 循环解法"
   ]
  },
  {
   "cell_type": "code",
   "execution_count": null,
   "metadata": {},
   "outputs": [],
   "source": [
    "# 循环实现，使用栈和数组；\n",
    "# 栈保存需要处理的节点，数组保存结果；使用 curr 指针遍历这个树，第一步从 根节点开始，\n",
    "# 找最左边的节点，并将中间遇到的节点放到栈中以备使用\n",
    "# 当一个节点没有左节点存在的时候（它此时在栈中），说明到了最左边的节点，将这个节点从栈中取出放到数组\n",
    "# 然后还需要检查这个节点是否有右节点（刚才只确认了这个节点没有左节点，如果有的话，还需要将它的右节点放入栈中）\n",
    "# 同时，根据中序遍历的特性，将最左边节点的父节点放到数组中\n",
    "# 然后检查这个父节点是否有右节点，如果有，放入栈中,如果没有则继续处理栈顶元素，即将其放入数组，然后检查是否有右节点\n",
    "# 最后返回数组\n",
    "\n",
    "def inorderTraversall(root):\n",
    "    if not root:\n",
    "        return []\n",
    "\n",
    "    res, stack = list(), list()\n",
    "    current = root\n",
    "\n",
    "    # 开始循环，结束的条件是 current 为空，或者栈为空\n",
    "    while current or len(stack):\n",
    "        while current:\n",
    "            current = current.left\n",
    "        # 取栈顶的第一个节点，即找到的最左边节点，放入数组\n",
    "        node = stack.pop()\n",
    "        res.append(node)\n",
    "        # 检查该节点是否有右节点\n",
    "        # 将右节点直接给 current ，如果没有右节点，则 current 为空\n",
    "        # 那么会直接处理栈顶的节点，即父节点\n",
    "        current = node.right\n",
    "    return res"
   ]
  },
  {
   "cell_type": "code",
   "execution_count": 3,
   "metadata": {},
   "outputs": [],
   "source": [
    "#### 递归解法\n",
    "# Definition for a binary tree node.\n",
    "class TreeNode:\n",
    "    def __init__(self, val=0, left=None, right=None):\n",
    "        self.val = val\n",
    "        self.left = left\n",
    "        self.right = right\n",
    "\n",
    "class Solution:\n",
    "    def __init__(self):\n",
    "        self.traverse_path = []\n",
    "\n",
    "    def inorderTraversal(self, root):\n",
    "        if root:\n",
    "            self.inorderTraversal(root.left)\n",
    "            self.traverse_path.append(root.val)\n",
    "            self.inorderTraversal(root.right)\n",
    "\n",
    "        return self.traverse_path"
   ]
  },
  {
   "cell_type": "markdown",
   "metadata": {},
   "source": [
    "### 二叉搜索树\n",
    "\n",
    "一种特殊的二叉树。也称为有序二叉树（Ordered Binary Tree）、排序二叉树(Sorted Binary Tree).\n",
    "\n",
    "它的特点是一颗空树或者具有以下性质的二叉树：\n",
    "\n",
    "- 左子树上所有节点的值均小于根节点的值；\n",
    "- 右子树上所有节点的值均大于它的根节点的值；\n",
    "- 以此类推：左右子树也分别为二叉查找树（重复性）\n",
    "\n",
    "对于它的操作：\n",
    "\n",
    "- 查找，每次找根节点对比，因为其排序的特性，每次可以筛选掉一半的节点\n",
    "- 插入，先走查找的流程，在最后停留的地方就是需要插入的地方\n",
    "- 删除，为了保持排序的特性，被删除的节点如果是子节点，直接删除；如果是根节点，那么需要找一个节点来充当被删除的节点，通常是根根节点左子树中最右边（最大的）或者是右子树中最左边（最小）的那个节点，将其变成新的根节点，同时将其他的节点的父亲设置为这个节点"
   ]
  }
 ],
 "metadata": {
  "interpreter": {
   "hash": "476253e59e65943f63347f07b9cde9e6998ced5a0f745ea85ba02156ab78e294"
  },
  "kernelspec": {
   "display_name": "Python 3.9.7 ('dev')",
   "language": "python",
   "name": "python3"
  },
  "language_info": {
   "codemirror_mode": {
    "name": "ipython",
    "version": 3
   },
   "file_extension": ".py",
   "mimetype": "text/x-python",
   "name": "python",
   "nbconvert_exporter": "python",
   "pygments_lexer": "ipython3",
   "version": "3.9.7"
  },
  "orig_nbformat": 4
 },
 "nbformat": 4,
 "nbformat_minor": 2
}
