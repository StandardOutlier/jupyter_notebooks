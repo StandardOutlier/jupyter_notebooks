{
 "cells": [
  {
   "cell_type": "markdown",
   "metadata": {},
   "source": [
    "# 二叉树\n",
    "\n",
    "需要理解树的遍历。\n",
    "\n",
    "- 使用递归是一种高效、简便的方式，不要怕使用递归。\n",
    "- 对于二叉树的递归又分为三种不同的形式，分别是前序、中序、后序。\n",
    "- 如果面试要求不使用递归，则可以使用循环解法。\n",
    "\n",
    "各种顺序的节点遍历顺序：\n",
    "\n",
    "- 前序：根左右\n",
    "- 中序：左根右\n",
    "- 后序：左右根\n",
    "\n",
    "\n",
    "```python\n",
    "#定义树的节点\n",
    "class TreeNode:\n",
    "    def __init__(self, val=0, left=None, right=None):\n",
    "        self.val = val\n",
    "        self.left = left\n",
    "        self.right = right\n",
    "```"
   ]
  },
  {
   "cell_type": "markdown",
   "metadata": {},
   "source": [
    "### 循环遍历"
   ]
  },
  {
   "cell_type": "code",
   "execution_count": null,
   "metadata": {},
   "outputs": [],
   "source": [
    "# 中序，左中右\n",
    "# 使用循环，实际上是手动维护了一个栈\n",
    "class Solution:\n",
    "    def inorderTraversal(self, root):\n",
    "        res, stack = [], []         # 结果数组和栈\n",
    "\n",
    "        cur = root                  # 定一个当前指针，指向循环时所在的节点\n",
    "        while cur or stack:\n",
    "            while cur:\n",
    "                stack.append(cur)\n",
    "                cur = cur.left      # 一直往左边走，沿途的节点入栈\n",
    "\n",
    "            cur = stack.pop()       # 从栈中取出一个节点，即最左边的节点\n",
    "            res.append(cur.val)     # 放入结果数组\n",
    "\n",
    "            # 访问右边节点；\n",
    "            cur = cur.right\n",
    "            # 若有值则会继续将其所有左边节点入栈；若为 null，则继续处理其他栈中的元素\n",
    "\n",
    "        return res\n",
    "\n",
    "# 一种更简洁的写法\n",
    "class Solution:\n",
    "    def inorderTraversal(self, root):\n",
    "        res, stack = [], []\n",
    "        while True:\n",
    "            while root:\n",
    "                stack.append(root)\n",
    "                root = root.left\n",
    "            if not stack:\n",
    "                return res\n",
    "            node = stack.pop()\n",
    "            res.append(node.val)\n",
    "            root = node.right"
   ]
  },
  {
   "cell_type": "markdown",
   "metadata": {},
   "source": [
    "### 递归遍历"
   ]
  },
  {
   "cell_type": "code",
   "execution_count": null,
   "metadata": {},
   "outputs": [],
   "source": [
    "# 中序遍历\n",
    "class Solution:\n",
    "    def __init__(self):\n",
    "        self.traverse_path = []\n",
    "\n",
    "    def inorderTraversal(self, root):\n",
    "        if root:\n",
    "            self.inorderTraversal(root.left)\n",
    "            self.traverse_path.append(root.val)\n",
    "            self.inorderTraversal(root.right)\n",
    "\n",
    "        return self.traverse_path\n",
    "\n",
    "\n",
    "# 使用 helper function\n",
    "class Solution:\n",
    "\n",
    "    def inorderTraversal(self, root):\n",
    "        traverse_path = []\n",
    "\n",
    "        def inorder(root):\n",
    "            if not root:\n",
    "                return\n",
    "            if root:\n",
    "                inorder(root.left)\n",
    "                traverse_path.append(root.val)\n",
    "                inorder(root.right)\n",
    "\n",
    "        inorder(root)\n",
    "\n",
    "        return traverse_path"
   ]
  },
  {
   "cell_type": "code",
   "execution_count": null,
   "metadata": {},
   "outputs": [],
   "source": [
    "# 前序遍历\n",
    "class Solution:\n",
    "    def __init__(self):\n",
    "        self.res = []\n",
    "\n",
    "    def preorderTraversal(self, root):\n",
    "        if root:\n",
    "            self.res.append(root.val)\n",
    "            self.preorderTraversal(root.left)\n",
    "            self.preorderTraversal(root.right)\n",
    "        return self.res"
   ]
  },
  {
   "cell_type": "code",
   "execution_count": null,
   "metadata": {},
   "outputs": [],
   "source": [
    "### 后序遍历\n",
    "class Solution:\n",
    "    def __init__(self):\n",
    "        self.res = []\n",
    "\n",
    "    def preorderTraversal(self, root):\n",
    "        if root:\n",
    "            self.preorderTraversal(root.left)\n",
    "            self.preorderTraversal(root.right)\n",
    "            self.res.append(root.val)\n",
    "\n",
    "        return self.res"
   ]
  },
  {
   "cell_type": "markdown",
   "metadata": {},
   "source": [
    "# N 叉树"
   ]
  },
  {
   "cell_type": "markdown",
   "metadata": {},
   "source": [
    "### N叉树后序遍历"
   ]
  },
  {
   "cell_type": "code",
   "execution_count": null,
   "metadata": {},
   "outputs": [],
   "source": [
    "# 递归\n",
    "def postorder(root):\n",
    "        \"\"\"\n",
    "        :type root: Node\n",
    "        :rtype: List[int]\n",
    "        \"\"\"\n",
    "        res = []\n",
    "        if root == None: return res\n",
    "\n",
    "        def recursion(root, res):\n",
    "            for child in root.children:\n",
    "                recursion(child, res)\n",
    "            res.append(root.val)\n",
    "\n",
    "        recursion(root, res)\n",
    "        return res\n",
    "\n",
    "# 迭代\n",
    "def postorder(root):\n",
    "        res = []\n",
    "        if root == None: return res\n",
    "\n",
    "        stack = [root]\n",
    "        while stack:\n",
    "            curr = stack.pop()\n",
    "            res.append(curr.val)\n",
    "            stack.extend(curr.children)\n",
    "\n",
    "        return res[::-1]"
   ]
  },
  {
   "cell_type": "markdown",
   "metadata": {},
   "source": [
    "### N 叉树的前序"
   ]
  },
  {
   "cell_type": "code",
   "execution_count": null,
   "metadata": {},
   "outputs": [],
   "source": [
    "def preorder(root):\n",
    "    res = []\n",
    "\n",
    "    if res == None: return res\n",
    "\n",
    "    # helper function\n",
    "    def recursive(root, res):\n",
    "        res.append(root.val)\n",
    "        for ch in root.children:\n",
    "            recursive(ch, res)\n",
    "\n",
    "    recursive(root, res)\n",
    "\n",
    "    return res"
   ]
  },
  {
   "cell_type": "markdown",
   "metadata": {},
   "source": [
    "### N 叉树的层序\n",
    "\n",
    "也就是从左到右一层一层的去遍历二叉树，层序可以有两种实现方式。分别是：\n",
    "\n",
    "- 借助队列的先进先出，广度优先\n",
    "- 借助栈的先进后出，深度优先\n",
    "\n",
    "> [链接](https://leetcode-cn.com/problems/n-ary-tree-level-order-traversal/solution/er-cha-shu-ceng-xu-bian-li-deng-chang-wo-yao-da-3/)"
   ]
  },
  {
   "cell_type": "code",
   "execution_count": null,
   "metadata": {},
   "outputs": [],
   "source": [
    "import collections\n",
    "\n",
    "# https://www.youtube.com/watch?v=6ZnyEApgFYg\n",
    "def level_order(root):\n",
    "    res = []\n",
    "\n",
    "    q = collections.deque()\n",
    "    q.append(root)\n",
    "\n",
    "    while q:\n",
    "        q_len = len(q)\n",
    "        level = []\n",
    "        for _ in range(q_len):\n",
    "            node = q.pop()\n",
    "            if node:\n",
    "                # 往本层的结果数组添加元素\n",
    "                level.append(node.val)\n",
    "                # 往队列增加左右节点\n",
    "                q.append(node.left)\n",
    "                q.append(node.right)\n",
    "        if level:\n",
    "            res.append(level)\n",
    "\n",
    "    return res\n"
   ]
  },
  {
   "cell_type": "markdown",
   "metadata": {},
   "source": [
    "# 二叉搜索树\n",
    "\n",
    "一种特殊的二叉树。也称为有序二叉树（Ordered Binary Tree）、排序二叉树(Sorted Binary Tree).\n",
    "\n",
    "它的特点是一颗空树或者具有以下性质的二叉树：\n",
    "\n",
    "- 左子树上所有节点的值均小于根节点的值；\n",
    "- 右子树上所有节点的值均大于它的根节点的值；\n",
    "- 以此类推：左右子树也分别为二叉查找树（重复性）\n",
    "\n",
    "对于它的操作：\n",
    "\n",
    "- 查找，每次找根节点对比，因为其排序的特性，每次可以筛选掉一半的节点\n",
    "- 插入，先走查找的流程，在最后停留的地方就是需要插入的地方\n",
    "- 删除，为了保持排序的特性，被删除的节点如果是子节点，直接删除；如果是根节点，那么需要找一个节点来充当被删除的节点，通常是根根节点左子树中最右边（最大的）或者是右子树中最左边（最小）的那个节点，将其变成新的根节点，同时将其他的节点的父亲设置为这个节点"
   ]
  },
  {
   "cell_type": "code",
   "execution_count": null,
   "metadata": {},
   "outputs": [],
   "source": [
    "from collections import deque\n",
    "\n",
    "class Solution:\n",
    "    def levelOrder(self, root: TreeNode) -> List[List[int]]:\n",
    "        if not root: return []\n",
    "        res = []\n",
    "        Deque = deque()\n",
    "        Deque.append(root)\n",
    "        while Deque:\n",
    "            size = len(Deque)\n",
    "            path = []\n",
    "            for i in range(size):\n",
    "                # temp 来暂存节点信息\n",
    "                temp = Deque.popleft()\n",
    "                path.append(temp.val)\n",
    "                if temp.left:\n",
    "                    Deque.append(temp.left)\n",
    "                if temp.right:\n",
    "                    Deque.append(temp.right)\n",
    "            res.append(path.copy())\n",
    "        return res"
   ]
  },
  {
   "cell_type": "markdown",
   "metadata": {},
   "source": []
  }
 ],
 "metadata": {
  "interpreter": {
   "hash": "476253e59e65943f63347f07b9cde9e6998ced5a0f745ea85ba02156ab78e294"
  },
  "kernelspec": {
   "display_name": "Python 3.9.7 ('dev')",
   "language": "python",
   "name": "python3"
  },
  "language_info": {
   "codemirror_mode": {
    "name": "ipython",
    "version": 3
   },
   "file_extension": ".py",
   "mimetype": "text/x-python",
   "name": "python",
   "nbconvert_exporter": "python",
   "pygments_lexer": "ipython3",
   "version": "3.9.7"
  },
  "orig_nbformat": 4
 },
 "nbformat": 4,
 "nbformat_minor": 2
}
