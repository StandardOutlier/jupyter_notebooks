{
 "cells": [
  {
   "cell_type": "markdown",
   "metadata": {},
   "source": [
    "### 爬楼梯\n",
    "\n",
    "\n",
    "1. 不要看得太复杂，先看一些基本的情况；能不能暴力，基本的情况如何解决\n",
    "2. 找最近重复子问题, 因为我们写程序只能写 if else, for, while,递归等结构\n",
    "\n",
    "\n",
    "- 第2级台阶要怎么走到第3级台阶？+1\n",
    "- 第1级台阶要怎么走到第3级台阶？+2\n",
    "\n",
    "第3级台阶的走法= f(1) + f(2) -> 斐波拉契数列\n",
    "\n",
    "\n",
    "爬楼梯问题，看了题解还有点不清楚，看看 leet-code 美区的介绍：\n",
    "\n",
    "> The key intuition to solve the problem is that given a number of stairs n, if we know the number ways to get to the points [n-1] and [n-2] respectively, denoted as n1 and n2 , then the total ways to get to the point [n] is n1 + n2. Because from the [n-1] point, we can take one single step to reach [n]. And from the [n-2] point, we could take two steps to get there.\n",
    "\n",
    "走法推算\n",
    "\n",
    "```\n",
    "1, (1+1,2)=2, (1+1+1, 1+2, 2+1)=3, (1+1+1+1, 1+2+1, 2+1+1, 2+2)\n",
    "```\n",
    "\n",
    "通过滚动数组\n",
    "滚动数组的大小是3，记录了前一个p, 现在的 c, 以及 结果 r"
   ]
  },
  {
   "cell_type": "code",
   "execution_count": 18,
   "metadata": {},
   "outputs": [
    {
     "data": {
      "text/plain": [
       "8"
      ]
     },
     "execution_count": 18,
     "metadata": {},
     "output_type": "execute_result"
    }
   ],
   "source": [
    "class Solution:\n",
    "\n",
    "    def climb_stairs_arr_windonw_3(self, n):\n",
    "        \"\"\"滑动窗口；两个元素做交换，一个变量存储结果。\n",
    "        \"\"\"\n",
    "        p, c, r = 0, 0, 1\n",
    "        for i in range(n):\n",
    "            p = c\n",
    "            c = r\n",
    "            r = p + c\n",
    "        return r\n",
    "\n",
    "\n",
    "    def climb_stairs_arr_windonw_2(self, n):\n",
    "        \"\"\"滑动窗口，使用 Python 语法糖直接交换\n",
    "        \"\"\"\n",
    "        a = b = 1\n",
    "        for _ in range(n):\n",
    "            a, b = b, a + b\n",
    "        return a\n",
    "\n"
   ]
  },
  {
   "cell_type": "markdown",
   "metadata": {},
   "source": [
    "### 斐波那契数列\n",
    "\n",
    "斐波那契数列由0和1开始，之后的斐波那契数就是由之前的两数相加而得出。首几个斐波那契数是：\n",
    "1, 1, 2, 3, 5, 8, 13, 21, 34, 55, 89, 144, 233……\n",
    "\n",
    "通项公式:\n",
    "\n",
    "F(n) = F(n-1) + F(n-2)"
   ]
  },
  {
   "cell_type": "code",
   "execution_count": null,
   "metadata": {},
   "outputs": [],
   "source": [
    "def fib_recursion(n):\n",
    "    \"\"\"递归\n",
    "       时间复杂度非常高，因为有大量冗余的计算\n",
    "    \"\"\"\n",
    "    if n < 2:\n",
    "        return n\n",
    "    else:\n",
    "        return fib_recursion(n-1) + fib_recursion(n-2)\n",
    "\n",
    "[fib_recursion(x) for x in range(1, 11)]"
   ]
  },
  {
   "cell_type": "code",
   "execution_count": null,
   "metadata": {},
   "outputs": [],
   "source": [
    "def fib_moving_window(n):\n",
    "    \"\"\"滑动数组\n",
    "       需要一个 for 循环，一步一步的计算到 n 对应的值\n",
    "    \"\"\"\n",
    "    # 小于 2，根据定义，直接返回结果\n",
    "    if n < 2:\n",
    "        return n\n",
    "    else:\n",
    "        q, p, r = 0, 0, 1\n",
    "        for _ in range(2, n+1):\n",
    "            q, p = p, r\n",
    "            r = p + q\n",
    "        return r\n",
    "\n",
    "\n",
    "[fib_moving_window(x) for x in range(1, 11)]"
   ]
  },
  {
   "cell_type": "code",
   "execution_count": null,
   "metadata": {},
   "outputs": [],
   "source": [
    "def gen_fib(n):\n",
    "    \"\"\"生成器实现\n",
    "       优化内存占用\n",
    "    \"\"\"\n",
    "    pre_val, cur_val, next_val = 0, 0, 1\n",
    "    for _ in range(n):\n",
    "        yield next_val\n",
    "        pre_val, cur_val = cur_val, next_val\n",
    "        next_val = pre_val + cur_val\n",
    "\n",
    "\n",
    "[x for x in gen_fib(10)]"
   ]
  }
 ],
 "metadata": {
  "interpreter": {
   "hash": "476253e59e65943f63347f07b9cde9e6998ced5a0f745ea85ba02156ab78e294"
  },
  "kernelspec": {
   "display_name": "Python 3.9.7 ('dev')",
   "language": "python",
   "name": "python3"
  },
  "language_info": {
   "codemirror_mode": {
    "name": "ipython",
    "version": 3
   },
   "file_extension": ".py",
   "mimetype": "text/x-python",
   "name": "python",
   "nbconvert_exporter": "python",
   "pygments_lexer": "ipython3",
   "version": "3.9.7"
  },
  "orig_nbformat": 4
 },
 "nbformat": 4,
 "nbformat_minor": 2
}
