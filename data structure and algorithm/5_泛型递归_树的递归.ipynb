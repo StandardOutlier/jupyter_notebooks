{
 "cells": [
  {
   "cell_type": "markdown",
   "metadata": {},
   "source": [
    "### 爬楼梯\n",
    "\n",
    "\n",
    "1. 不要看得太复杂，先看一些基本的情况；能不能暴力，基本的情况如何解决\n",
    "2. 找最近重复子问题, 因为我们写程序只能写 if else, for, while,递归等结构\n",
    "\n",
    "\n",
    "- 第2级台阶要怎么走到第3级台阶？+1\n",
    "- 第1级台阶要怎么走到第3级台阶？+2\n",
    "\n",
    "第3级台阶的走法= f(1) + f(2) -> 斐波拉契数列\n",
    "\n",
    "\n",
    "爬楼梯问题，看了题解还有点不清楚，看看 leet-code 美区的介绍：\n",
    "\n",
    "> The key intuition to solve the problem is that given a number of stairs n, if we know the number ways to get to the points [n-1] and [n-2] respectively, denoted as n1 and n2 , then the total ways to get to the point [n] is n1 + n2. Because from the [n-1] point, we can take one single step to reach [n]. And from the [n-2] point, we could take two steps to get there.\n",
    "\n",
    "走法推算\n",
    "\n",
    "```\n",
    "1, (1+1,2)=2, (1+1+1, 1+2, 2+1)=3, (1+1+1+1, 1+2+1, 2+1+1, 2+2)\n",
    "```\n",
    "\n",
    "通过滚动数组\n",
    "滚动数组的大小是3，记录了前一个p, 现在的 c, 以及 结果 r"
   ]
  },
  {
   "cell_type": "code",
   "execution_count": 18,
   "metadata": {},
   "outputs": [
    {
     "data": {
      "text/plain": [
       "8"
      ]
     },
     "execution_count": 18,
     "metadata": {},
     "output_type": "execute_result"
    }
   ],
   "source": [
    "class Solution:\n",
    "\n",
    "    def climb_stairs_arr_windonw_3(self, n):\n",
    "        \"\"\"滑动窗口；两个元素做交换，一个变量存储结果。\n",
    "        \"\"\"\n",
    "        p, c, r = 0, 0, 1\n",
    "        for i in range(n):\n",
    "            p = c\n",
    "            c = r\n",
    "            r = p + c\n",
    "        return r\n",
    "\n",
    "\n",
    "    def climb_stairs_arr_windonw_2(self, n):\n",
    "        \"\"\"滑动窗口，使用 Python 语法糖直接交换\n",
    "        \"\"\"\n",
    "        a = b = 1\n",
    "        for _ in range(n):\n",
    "            a, b = b, a + b\n",
    "        return a\n",
    "\n"
   ]
  },
  {
   "cell_type": "markdown",
   "metadata": {},
   "source": [
    "### 斐波那契数列\n",
    "\n",
    "斐波那契数列由0和1开始，之后的斐波那契数就是由之前的两数相加而得出。首几个斐波那契数是：\n",
    "1, 1, 2, 3, 5, 8, 13, 21, 34, 55, 89, 144, 233……\n",
    "\n",
    "通项公式:\n",
    "\n",
    "F(n) = F(n-1) + F(n-2)"
   ]
  },
  {
   "cell_type": "code",
   "execution_count": null,
   "metadata": {},
   "outputs": [],
   "source": [
    "def fib_recursion(n):\n",
    "    \"\"\"递归\n",
    "       时间复杂度非常高，因为有大量冗余的计算\n",
    "    \"\"\"\n",
    "    if n < 2:\n",
    "        return n\n",
    "    else:\n",
    "        return fib_recursion(n-1) + fib_recursion(n-2)\n",
    "\n",
    "[fib_recursion(x) for x in range(1, 11)]"
   ]
  },
  {
   "cell_type": "code",
   "execution_count": null,
   "metadata": {},
   "outputs": [],
   "source": [
    "def fib_moving_window(n):\n",
    "    \"\"\"滑动数组\n",
    "       需要一个 for 循环，一步一步的计算到 n 对应的值\n",
    "    \"\"\"\n",
    "    # 小于 2，根据定义，直接返回结果\n",
    "    if n < 2:\n",
    "        return n\n",
    "    else:\n",
    "        q, p, r = 0, 0, 1\n",
    "        for _ in range(2, n+1):\n",
    "            q, p = p, r\n",
    "            r = p + q\n",
    "        return r\n",
    "\n",
    "\n",
    "[fib_moving_window(x) for x in range(1, 11)]"
   ]
  },
  {
   "cell_type": "code",
   "execution_count": null,
   "metadata": {},
   "outputs": [],
   "source": [
    "def gen_fib(n):\n",
    "    \"\"\"生成器实现\n",
    "       优化内存占用\n",
    "    \"\"\"\n",
    "    pre_val, cur_val, next_val = 0, 0, 1\n",
    "    for _ in range(n):\n",
    "        yield next_val\n",
    "        pre_val, cur_val = cur_val, next_val\n",
    "        next_val = pre_val + cur_val\n",
    "\n",
    "\n",
    "[x for x in gen_fib(10)]"
   ]
  },
  {
   "cell_type": "markdown",
   "metadata": {},
   "source": [
    "### 翻转二叉树"
   ]
  },
  {
   "cell_type": "code",
   "execution_count": 8,
   "metadata": {},
   "outputs": [],
   "source": [
    "class TreeNode:\n",
    "    def __init__(self, val=0, left=None, right=None):\n",
    "        self.val = val\n",
    "        self.left = left\n",
    "        self.right = right"
   ]
  },
  {
   "cell_type": "code",
   "execution_count": 19,
   "metadata": {},
   "outputs": [],
   "source": [
    "class Solution:\n",
    "    def invertTreeRev(self, root: TreeNode) -> TreeNode:\n",
    "        \"\"\"递归翻转\n",
    "        \"\"\"\n",
    "        if not root:\n",
    "            return root\n",
    "\n",
    "        # 递归，一直走到最左边，没有子节点了，return\n",
    "        left = self.invertTree(root.left)\n",
    "\n",
    "        # 开始处理右边节点，但此时处在底层\n",
    "        # 从底层节点开始一直找右边节点，找到最底层后返回\n",
    "        right = self.invertTree(root.right)\n",
    "\n",
    "        # 交换左右节点\n",
    "        root.left, root.right = right, left\n",
    "        return root\n",
    "\n",
    "    def invertTreeRevSimple(self, root):\n",
    "        \"\"\"一个更简洁的写法\n",
    "        \"\"\"\n",
    "        if root:\n",
    "            invert = self.invertTree\n",
    "            root.left, root.right = invert(root.right), invert(root.left)\n",
    "            return root\n",
    "\n",
    "\n",
    "    def invertTreeMap(self, root):\n",
    "        if root:\n",
    "            root.left, root.right = map(self.invertTree, (root.right, root.left))\n",
    "\n",
    "        return root"
   ]
  },
  {
   "cell_type": "markdown",
   "metadata": {},
   "source": [
    "### 验证二叉搜索树\n",
    "\n",
    "- 如果该二叉树的左子树不为空，则左子树上所有节点的值均小于它的根节点的值；\n",
    "- 若它的右子树不空，则右子树上所有节点的值均大于它的根节点的值；它的左右子树也为二叉搜索树。\n",
    "\n",
    "一个很自然的想法是直接遍历这棵树，但是问题是（见下图）"
   ]
  },
  {
   "cell_type": "markdown",
   "metadata": {},
   "source": [
    "<a href=\"https://sm.ms/image/bgmNhpJwT3AYOV9\" target=\"_blank\"><img src=\"https://s2.loli.net/2022/04/18/bgmNhpJwT3AYOV9.png\" width=520 align=center /></a>"
   ]
  },
  {
   "cell_type": "code",
   "execution_count": 1,
   "metadata": {},
   "outputs": [],
   "source": [
    "class TreeNode:\n",
    "    def __init__(self, val=0, left=None, right=None):\n",
    "        self.val = val\n",
    "        self.left = left\n",
    "        self.right = right\n",
    "\n",
    "# 递归解法\n",
    "class Solution:\n",
    "    \"\"\"执行用时： 44 ms , 在所有 Python3 提交中击败了 85.19% 的用户\n",
    "    内存消耗： 17.7 MB , 在所有 Python3 提交中击败了 43.24% 的用户\n",
    "    \"\"\"\n",
    "    def isValidBST(self, root, left = float('-inf'), right = float('inf')):\n",
    "        # 如果没有子节点了，返回 True\n",
    "        if not root:\n",
    "            return True\n",
    "\n",
    "        # 规定（左边界 <= roo.val <= 右边界）\n",
    "        # 如果不满足，则返回 False\n",
    "        if not (root.val > left and root.val < right):\n",
    "            return False\n",
    "\n",
    "        # 递归调用，将左边和右边的分开处理,左右均为 BST 才能确定整个树为 BST\n",
    "        # 针对左边的节点，更新其右边界\n",
    "        # 针对右边的节点，更新其左边界\n",
    "        return self.isValidBST(root.left, left, root.val) and \\\n",
    "               self.isValidBST(root.right, root.val, right)\n",
    "\n",
    "# 中序遍历解法：\n",
    "# 1. 速度较慢\n",
    "class Solution:\n",
    "    \"\"\"\n",
    "    执行用时： 8648 ms , 在所有 Python3 提交中击败了 7.48% 的用户\n",
    "    内存消耗： 18.7 MB , 在所有 Python3 提交中击败了 5.10% 的用户\n",
    "    \"\"\"\n",
    "    def __init__(self):\n",
    "        self.stack = []\n",
    "\n",
    "\n",
    "    def _in_order(self, root):\n",
    "        if root:\n",
    "            self.isValidBST(root.left)\n",
    "            self.stack.append(root.val)\n",
    "            self.isValidBST(root.right)\n",
    "\n",
    "    def isValidBST(self, root):\n",
    "        self._in_order(root)\n",
    "        for i in range(1, len(self.stack)):\n",
    "            if self.stack[i] <= self.stack[i-1]:\n",
    "                return False\n",
    "        return True\n",
    "\n",
    "# 2. 速度较快, 省去创建类时，空数组创建的开销\n",
    "class Solution:\n",
    "    \"\"\"执行用时：44 ms, 在所有 Python3 提交中击败了85.19%的用户\n",
    "       内存消耗：18 MB, 在所有 Python3 提交中击败了32.48%的用户\n",
    "    \"\"\"\n",
    "    def _in_order(self, root, stack):\n",
    "        if root:\n",
    "            self._in_order(root.left, stack)\n",
    "            stack.append(root.val)\n",
    "            self._in_order(root.right, stack)\n",
    "\n",
    "    def isValidBST(self, root):\n",
    "        stack = []\n",
    "        self._in_order(root, stack)\n",
    "        for i in range(1, len(stack)):\n",
    "            if stack[i] <= stack[i-1]:\n",
    "                return False\n",
    "        return True"
   ]
  },
  {
   "cell_type": "markdown",
   "metadata": {},
   "source": [
    "### 二叉树的最大深度"
   ]
  },
  {
   "cell_type": "code",
   "execution_count": null,
   "metadata": {},
   "outputs": [],
   "source": [
    "class Solution:\n",
    "    def maxDepth(self, root) -> int:\n",
    "        if root is None:\n",
    "            return 0\n",
    "\n",
    "        left_dep = self.maxDepth(root.left)\n",
    "        right_dep = self.maxDepth(root.right)\n",
    "\n",
    "        # 递归时，直接在 return 中 +1 记录次数\n",
    "        return max(left_dep, right_dep) + 1\n",
    "\n",
    "\n",
    "class Solution:\n",
    "    \"\"\"内部使用一个 helper 函数\"\"\"\n",
    "    def maxDepth(self, root) -> int:\n",
    "        def dfs(root, depth):\n",
    "            if not root:\n",
    "                return depth\n",
    "\n",
    "            return max(dfs(root.left, depth + 1), dfs(root.right, depth + 1))\n",
    "        return dfs(root, 0)"
   ]
  }
 ],
 "metadata": {
  "interpreter": {
   "hash": "476253e59e65943f63347f07b9cde9e6998ced5a0f745ea85ba02156ab78e294"
  },
  "kernelspec": {
   "display_name": "Python 3.9.7 ('dev')",
   "language": "python",
   "name": "python3"
  },
  "language_info": {
   "codemirror_mode": {
    "name": "ipython",
    "version": 3
   },
   "file_extension": ".py",
   "mimetype": "text/x-python",
   "name": "python",
   "nbconvert_exporter": "python",
   "pygments_lexer": "ipython3",
   "version": "3.9.7"
  },
  "orig_nbformat": 4
 },
 "nbformat": 4,
 "nbformat_minor": 2
}
