{
 "cells": [
  {
   "cell_type": "code",
   "execution_count": 1,
   "metadata": {},
   "outputs": [],
   "source": [
    "class TreeNode:\n",
    "    def __init__(self, val=0, left=None, right=None):\n",
    "        self.val = val\n",
    "        self.left = left\n",
    "        self.right = right"
   ]
  },
  {
   "cell_type": "code",
   "execution_count": 4,
   "metadata": {},
   "outputs": [],
   "source": [
    "from platform import node\n",
    "\n",
    "\n",
    "def new_tree(nodes: list, order:str='pre'):\n",
    "    pass\n",
    "\n",
    "def new_tree_from_pre_order(nodes: list):\n",
    "    # pre order: root -> left -> right\n",
    "     if nodes:\n",
    "        nodes = [TreeNode(x) for x in nodes]\n"
   ]
  }
 ],
 "metadata": {
  "kernelspec": {
   "display_name": "Python 3.9.7 ('dev')",
   "language": "python",
   "name": "python3"
  },
  "language_info": {
   "codemirror_mode": {
    "name": "ipython",
    "version": 3
   },
   "file_extension": ".py",
   "mimetype": "text/x-python",
   "name": "python",
   "nbconvert_exporter": "python",
   "pygments_lexer": "ipython3",
   "version": "3.9.7"
  },
  "orig_nbformat": 4,
  "vscode": {
   "interpreter": {
    "hash": "476253e59e65943f63347f07b9cde9e6998ced5a0f745ea85ba02156ab78e294"
   }
  }
 },
 "nbformat": 4,
 "nbformat_minor": 2
}
