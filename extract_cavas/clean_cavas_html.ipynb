{
 "cells": [
  {
   "cell_type": "code",
   "execution_count": 1,
   "metadata": {},
   "outputs": [],
   "source": [
    "from pathlib import Path\n",
    "from selenium import webdriver\n",
    "from selenium.webdriver.common.by import By\n",
    "import pandas as pd"
   ]
  },
  {
   "cell_type": "code",
   "execution_count": 2,
   "metadata": {},
   "outputs": [],
   "source": [
    "def get_url_data(driver, url):\n",
    "    # 打开目标网页\n",
    "    driver.get(url)\n",
    "\n",
    "    # 查找所有问题的容器\n",
    "    questions = driver.find_elements(By.CSS_SELECTOR, '.question_holder')\n",
    "\n",
    "    all_qa_pairs = []\n",
    "\n",
    "    for question in questions:\n",
    "        is_right_answer = \"Yes\"\n",
    "        # 检查问题是否被标记为incorrect\n",
    "        incorrect_marks = question.find_elements(By.CSS_SELECTOR, '.answer_arrow.incorrect')\n",
    "        \n",
    "        # 如果存在incorrect标记，则跳过这个问题\n",
    "        if incorrect_marks:\n",
    "            is_right_answer = \"No\"\n",
    "        \n",
    "        # 提取问题文本\n",
    "        question_text = question.find_element(By.CSS_SELECTOR, '.question_text.user_content.enhanced').text.strip()\n",
    "        \n",
    "        # 尝试找到被选中的答案选项\n",
    "        try:\n",
    "            selected_answer = question.find_element(By.CSS_SELECTOR, 'input[type=\"radio\"][checked]').find_element(By.XPATH, './following-sibling::label').text.strip()\n",
    "        except Exception as e:\n",
    "            # 如果没有找到被选中的答案，可能需要记录错误或以其他方式处理\n",
    "            selected_answer = '未找到选中的答案'\n",
    "        \n",
    "        # 将问题和答案加入到列表中\n",
    "        all_qa_pairs.append((question_text, selected_answer, is_right_answer))\n",
    "\n",
    "    df = pd.DataFrame(all_qa_pairs, columns=['Question', 'Answer', 'Right'])\n",
    "\n",
    "    return df"
   ]
  },
  {
   "cell_type": "code",
   "execution_count": 3,
   "metadata": {},
   "outputs": [
    {
     "data": {
      "text/plain": [
       "[PosixPath('/Users/scott/repos/jupyter_notebooks/extract_cavas/targets/glg_cha15/CHA15_ GLG101_ Intro to Geology (2024 Spring) (4_28_2024 10_31_16 PM).html')]"
      ]
     },
     "execution_count": 3,
     "metadata": {},
     "output_type": "execute_result"
    }
   ],
   "source": [
    "target_folder = \"glg_cha15\"\n",
    "\n",
    "html_folder = Path.cwd() / f\"targets/{target_folder}\"\n",
    "html_files = list(html_folder.glob(\"*.html\"))\n",
    "html_files"
   ]
  },
  {
   "cell_type": "code",
   "execution_count": 4,
   "metadata": {},
   "outputs": [],
   "source": [
    "result_arr = []\n",
    "\n",
    "with webdriver.Chrome() as driver:\n",
    "    for file in html_files:\n",
    "        file_url = file.as_uri()\n",
    "        df = get_url_data(driver=driver, url=file_url)\n",
    "        df['charpter'] = file.stem\n",
    "        result_arr.append(df)"
   ]
  },
  {
   "cell_type": "code",
   "execution_count": 5,
   "metadata": {},
   "outputs": [],
   "source": [
    "dff = pd.concat(result_arr, ignore_index=True)\n",
    "# dff.sort_values(by='Question').to_excel(html_folder.joinpath(\"results.xlsx\"), index=False)\n"
   ]
  },
  {
   "cell_type": "code",
   "execution_count": 6,
   "metadata": {},
   "outputs": [],
   "source": [
    "dff_r = dff[dff.Right == 'Yes'].drop_duplicates(subset=['Question'])\n",
    "dff_w = dff[dff.Right != 'Yes'].drop_duplicates(subset=['Question'])"
   ]
  },
  {
   "cell_type": "code",
   "execution_count": 7,
   "metadata": {},
   "outputs": [],
   "source": [
    "dff_w_remain = dff_w[~dff_w['Question'].isin(dff_r['Question'])]"
   ]
  },
  {
   "cell_type": "code",
   "execution_count": 8,
   "metadata": {},
   "outputs": [],
   "source": [
    "with pd.ExcelWriter(html_folder.joinpath(\"result.xlsx\")) as writer:\n",
    "    dff_r[['Question', 'Answer', 'charpter']].sort_values(by='Question').to_excel(writer, index=False, sheet_name='Right')\n",
    "    dff_w_remain[['Question', 'Answer', 'charpter']].sort_values(by='Question').to_excel(writer, index=False, sheet_name=\"Wrong\")"
   ]
  },
  {
   "cell_type": "code",
   "execution_count": 9,
   "metadata": {},
   "outputs": [],
   "source": [
    "dff_r[['Question', 'Answer']].to_csv(html_folder.joinpath(\"result.csv\"), index=False, sep='|')\n",
    "dff_r[['Question', 'Answer']].to_csv(html_folder.parent.joinpath(\"result.csv\"), index=False, sep='|')"
   ]
  }
 ],
 "metadata": {
  "kernelspec": {
   "display_name": "dev",
   "language": "python",
   "name": "python3"
  },
  "language_info": {
   "codemirror_mode": {
    "name": "ipython",
    "version": 3
   },
   "file_extension": ".py",
   "mimetype": "text/x-python",
   "name": "python",
   "nbconvert_exporter": "python",
   "pygments_lexer": "ipython3",
   "version": "3.9.7"
  }
 },
 "nbformat": 4,
 "nbformat_minor": 2
}
